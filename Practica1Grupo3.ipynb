{
  "nbformat": 4,
  "nbformat_minor": 0,
  "metadata": {
    "colab": {
      "provenance": [],
      "authorship_tag": "ABX9TyPpTrAUJhfSaHhCgcgbZo10",
      "include_colab_link": true
    },
    "kernelspec": {
      "name": "python3",
      "display_name": "Python 3"
    },
    "language_info": {
      "name": "python"
    }
  },
  "cells": [
    {
      "cell_type": "markdown",
      "metadata": {
        "id": "view-in-github",
        "colab_type": "text"
      },
      "source": [
        "<a href=\"https://colab.research.google.com/github/DanielAlonsoCuriel/deeplearning/blob/main/Practica1Grupo3.ipynb\" target=\"_parent\"><img src=\"https://colab.research.google.com/assets/colab-badge.svg\" alt=\"Open In Colab\"/></a>"
      ]
    },
    {
      "cell_type": "code",
      "execution_count": 8,
      "metadata": {
        "colab": {
          "base_uri": "https://localhost:8080/"
        },
        "id": "KZ0972L2R881",
        "outputId": "e49aa835-dff7-4afb-d75c-a12f3c8fcfb9"
      },
      "outputs": [
        {
          "output_type": "stream",
          "name": "stdout",
          "text": [
            "Colab only includes TensorFlow 2.x; %tensorflow_version has no effect.\n",
            "2.9.0\n",
            "GPU Available: []\n",
            "2.9.2\n"
          ]
        }
      ],
      "source": [
        "# 1._ IMPORTAMOS KERAS\n",
        "%tensorflow_version 2.x\n",
        "import tensorflow as tf\n",
        "from tensorflow import keras\n",
        "import numpy as np\n",
        "print(tf.keras.__version__)\n",
        "print(\"GPU Available:\", tf.config.list_physical_devices('GPU'))\n",
        "print(tf.__version__)"
      ]
    },
    {
      "cell_type": "code",
      "source": [
        "# 2.- CARGAMOS EL CONJUNTO DE DATOS Fashion-MNIST EN KERAS\n",
        "# fashion_mnist = tf.keras.datasets.fashion_mnist\n",
        "from keras.datasets import fashion_mnist\n",
        "\n",
        "(train_images, train_labels), (test_images, test_labels) = fashion_mnist.load_data()"
      ],
      "metadata": {
        "id": "rmWIkz4KSdL9"
      },
      "execution_count": 9,
      "outputs": []
    },
    {
      "cell_type": "code",
      "source": [
        "print(train_images.shape)"
      ],
      "metadata": {
        "colab": {
          "base_uri": "https://localhost:8080/"
        },
        "id": "hviZoptkTUw_",
        "outputId": "004016a7-c42e-4b02-ddf3-039084611f5d"
      },
      "execution_count": 10,
      "outputs": [
        {
          "output_type": "stream",
          "name": "stdout",
          "text": [
            "(60000, 28, 28)\n"
          ]
        }
      ]
    },
    {
      "cell_type": "code",
      "source": [
        "# Vemos la matriz de la imagen número 30 (28x28)\n",
        "np.set_printoptions(precision=2, suppress=True, linewidth=145)\n",
        "print(np.matrix(train_images[30]))"
      ],
      "metadata": {
        "colab": {
          "base_uri": "https://localhost:8080/"
        },
        "id": "uEwug8n6T-Tu",
        "outputId": "3b317dff-73b2-4619-8cfb-5e08cc7a739f"
      },
      "execution_count": 18,
      "outputs": [
        {
          "output_type": "stream",
          "name": "stdout",
          "text": [
            "[[  0   0   0   0   0   0   0   0   0   0   0   0   0   0   0   0   0   0   0   0   0   0   0   0   0   0   0   0]\n",
            " [  0   0   0   0   0   0   0   0   0   0   0   0   0   0   0   0   0   0   0   0   0   0   0   0   0   0   0   0]\n",
            " [  0   0   0   0   0   0   0   0   0   0   0   0   0   0   0   0   0   0   0   0   0   0   0   0   0   0   0   0]\n",
            " [  0   0   0   0   0   0   0   0   0   0   0   0   0   0   0   0   0   0   0   0   0   0   0   0   0   0   0   0]\n",
            " [  0   0   0   0   0   0   0   0   0   0   0   0   0   0   0   0   0   0   0   0   0   0   0   0   0   0   0   0]\n",
            " [  0   0   0   0   0   0   0   0   0   0   0   0   0   0   0   0   0   0   0   0   0   0   0   0   0   0   0   0]\n",
            " [  0   0   0   0   0   0   0   0   0   0   0   0   0   0   0   0   0   0   0   0   0   0   0   0   0   0   0   0]\n",
            " [  0   0   0   0   0   0   0   0   0   0   0   0   0   0   0   0   0   0   0   0   0   0   0   0   0   0   0   0]\n",
            " [  0   0   0   0   0   0   0   0   0   0   0   0   0   0   0   0   0   0   0   0   0   0   0   0   0   0   0   0]\n",
            " [  0   0   0   0   0   0   0   0   0   0   0   0   0   0   0   0   0   0   0   0   0   0   0   0   0   0   0   0]\n",
            " [  0   0   0   0   0   0   0   0   0   0   0   0   0   0   0   0   0   0   0   0   0   0   0   0   0   0   0   0]\n",
            " [  0   0   0   0   0   0   0   0  48  88  54  25  19   0   0   0   0   1   0   0   0   0   0   0   0   0   0   0]\n",
            " [  4   1   1   1   0   0 206 204 106 163 178 157 163 171 119  39   0   0   2   1   1   1   1   1   1   1   0   0]\n",
            " [  0   0   0   0   0  84 204   0   0   0   1  57  91  77  99 138  94   7   0   0   0   0   0   0   0   0   1   3]\n",
            " [ 51  43  27  27  28 254  31   0   4   0   0   0  16 121  84  19  63 110  31   0   0   0   0   0   0   0   0   0]\n",
            " [137 202 133 108  97 146  71  78  82  86  85 105 118 139 143 126 162 176 135  69  76  71  91  99 103  94  99  54]\n",
            " [  0 110 186 205 203 193 191 178 204 172 175 175 177 183 189 190 197 196 192 182 186 185 184 182 178 168 159  77]\n",
            " [  0   0   0   4  51  69  92 108 112 115 112 111 112  90  77  62  44  36  32  35  27  25  19  14   5   0   0   0]\n",
            " [  0   0   0   0   0   0   0   0   0   0   0   0   0   0   0   0   0   0   0   0   0   0   0   0   0   0   0   0]\n",
            " [  0   0   0   0   0   0   0   0   0   0   0   0   0   0   0   0   0   0   0   0   0   0   0   0   0   0   0   0]\n",
            " [  0   0   0   0   0   0   0   0   0   0   0   0   0   0   0   0   0   0   0   0   0   0   0   0   0   0   0   0]\n",
            " [  0   0   0   0   0   0   0   0   0   0   0   0   0   0   0   0   0   0   0   0   0   0   0   0   0   0   0   0]\n",
            " [  0   0   0   0   0   0   0   0   0   0   0   0   0   0   0   0   0   0   0   0   0   0   0   0   0   0   0   0]\n",
            " [  0   0   0   0   0   0   0   0   0   0   0   0   0   0   0   0   0   0   0   0   0   0   0   0   0   0   0   0]\n",
            " [  0   0   0   0   0   0   0   0   0   0   0   0   0   0   0   0   0   0   0   0   0   0   0   0   0   0   0   0]\n",
            " [  0   0   0   0   0   0   0   0   0   0   0   0   0   0   0   0   0   0   0   0   0   0   0   0   0   0   0   0]\n",
            " [  0   0   0   0   0   0   0   0   0   0   0   0   0   0   0   0   0   0   0   0   0   0   0   0   0   0   0   0]\n",
            " [  0   0   0   0   0   0   0   0   0   0   0   0   0   0   0   0   0   0   0   0   0   0   0   0   0   0   0   0]]\n"
          ]
        }
      ]
    },
    {
      "cell_type": "code",
      "source": [
        "# La imagen anterior corresponde con el número 5 (sandalia). Hasta se puede intuir.... \n",
        "train_labels[30]"
      ],
      "metadata": {
        "colab": {
          "base_uri": "https://localhost:8080/"
        },
        "id": "mRamuz-bVME-",
        "outputId": "7610a097-a657-4eaf-b1a9-ab73dff176a8"
      },
      "execution_count": 17,
      "outputs": [
        {
          "output_type": "execute_result",
          "data": {
            "text/plain": [
              "5"
            ]
          },
          "metadata": {},
          "execution_count": 17
        }
      ]
    },
    {
      "cell_type": "code",
      "source": [
        "# Veamos el elemento 30 y pintémoslo con matplotlib\n",
        "import matplotlib.pyplot as plt\n",
        "digit = train_images[30]\n",
        "plt.imshow(digit, cmap=plt.cm.binary)\n",
        "plt.show()"
      ],
      "metadata": {
        "colab": {
          "base_uri": "https://localhost:8080/",
          "height": 265
        },
        "id": "54_8nyZxXkHG",
        "outputId": "9b1ef3fd-e7d5-4a11-907a-2fad8682b174"
      },
      "execution_count": 20,
      "outputs": [
        {
          "output_type": "display_data",
          "data": {
            "text/plain": [
              "<Figure size 432x288 with 1 Axes>"
            ],
            "image/png": "[encoded data removed]"
          },
          "metadata": {
            "needs_background": "light"
          }
        }
      ]
    },
    {
      "cell_type": "code",
      "source": [
        "len(train_labels)"
      ],
      "metadata": {
        "colab": {
          "base_uri": "https://localhost:8080/"
        },
        "id": "zWjdh1GfXwX0",
        "outputId": "8de41951-2b5c-40e6-d0eb-4382f069f462"
      },
      "execution_count": 21,
      "outputs": [
        {
          "output_type": "execute_result",
          "data": {
            "text/plain": [
              "60000"
            ]
          },
          "metadata": {},
          "execution_count": 21
        }
      ]
    },
    {
      "cell_type": "code",
      "source": [
        "train_labels"
      ],
      "metadata": {
        "colab": {
          "base_uri": "https://localhost:8080/"
        },
        "id": "JN4A4ihZX2CV",
        "outputId": "775307cf-fdc7-413f-97cf-c9c06723a57e"
      },
      "execution_count": 22,
      "outputs": [
        {
          "output_type": "execute_result",
          "data": {
            "text/plain": [
              "array([9, 0, 0, ..., 3, 0, 5], dtype=uint8)"
            ]
          },
          "metadata": {},
          "execution_count": 22
        }
      ]
    },
    {
      "cell_type": "code",
      "source": [
        "# Veamos el elemento 0 (que vemos que es un 9, bota) y pintémoslo con matplotlib\n",
        "import matplotlib.pyplot as plt\n",
        "digit = train_images[0]\n",
        "plt.imshow(digit, cmap=plt.cm.binary)\n",
        "plt.show()"
      ],
      "metadata": {
        "colab": {
          "base_uri": "https://localhost:8080/",
          "height": 265
        },
        "id": "vtVO5zh_X-T0",
        "outputId": "fe825016-4055-4ac2-d587-468f0a36148f"
      },
      "execution_count": 23,
      "outputs": [
        {
          "output_type": "display_data",
          "data": {
            "text/plain": [
              "<Figure size 432x288 with 1 Axes>"
            ],
            "image/png": "[encoded data removed]"
          },
          "metadata": {
            "needs_background": "light"
          }
        }
      ]
    },
    {
      "cell_type": "markdown",
      "source": [
        "Los datos de prueba:"
      ],
      "metadata": {
        "id": "RyilzkcHYv58"
      }
    },
    {
      "cell_type": "code",
      "source": [
        "test_images.shape"
      ],
      "metadata": {
        "colab": {
          "base_uri": "https://localhost:8080/"
        },
        "id": "tfnlYEeYYxQU",
        "outputId": "0165983d-e046-4ff3-89d9-8934b3165965"
      },
      "execution_count": 24,
      "outputs": [
        {
          "output_type": "execute_result",
          "data": {
            "text/plain": [
              "(10000, 28, 28)"
            ]
          },
          "metadata": {},
          "execution_count": 24
        }
      ]
    },
    {
      "cell_type": "code",
      "source": [
        "len(test_labels)"
      ],
      "metadata": {
        "colab": {
          "base_uri": "https://localhost:8080/"
        },
        "id": "3e-RqOwqY4nE",
        "outputId": "e1abb5b8-84d7-46f9-8711-90d5b49e29ff"
      },
      "execution_count": 25,
      "outputs": [
        {
          "output_type": "execute_result",
          "data": {
            "text/plain": [
              "10000"
            ]
          },
          "metadata": {},
          "execution_count": 25
        }
      ]
    },
    {
      "cell_type": "code",
      "source": [
        "test_labels.shape, test_labels"
      ],
      "metadata": {
        "colab": {
          "base_uri": "https://localhost:8080/"
        },
        "id": "Mw0fjzmkY9HV",
        "outputId": "7b77804b-5dc0-4a12-ed8f-1f61df170777"
      },
      "execution_count": 26,
      "outputs": [
        {
          "output_type": "execute_result",
          "data": {
            "text/plain": [
              "((10000,), array([9, 2, 1, ..., 8, 1, 5], dtype=uint8))"
            ]
          },
          "metadata": {},
          "execution_count": 26
        }
      ]
    },
    {
      "cell_type": "code",
      "source": [
        "# Veamos el elemento 1 de test (que vemos que es un 2, jersey) y pintémoslo con matplotlib\n",
        "import matplotlib.pyplot as plt\n",
        "digit = test_images[1]\n",
        "plt.imshow(digit, cmap=plt.cm.binary)\n",
        "plt.show()"
      ],
      "metadata": {
        "colab": {
          "base_uri": "https://localhost:8080/",
          "height": 265
        },
        "id": "JwyX4YvnZD0U",
        "outputId": "a731943b-b7ac-4fd2-8244-379b41738410"
      },
      "execution_count": 31,
      "outputs": [
        {
          "output_type": "display_data",
          "data": {
            "text/plain": [
              "<Figure size 432x288 with 1 Axes>"
            ],
            "image/png": "[encoded data removed]"
          },
          "metadata": {
            "needs_background": "light"
          }
        }
      ]
    },
    {
      "cell_type": "code",
      "source": [
        "# 3.- CONSTRUIMOS LA ARQUITECTURA DE LA RED DEL PRIMER CASO\n",
        "from keras import models\n",
        "from keras import layers\n",
        "\n",
        "# El tipo de red será secuencial. Desde la entrada hasta la salida sin ciclos\n",
        "network = models.Sequential()\n",
        "# Creamos dos capas \"Dense\", que son capas neuronales densamente conectadas \n",
        "# (también llamadas \"completamente conectadas\"). Cada una de las 10 neuronas de\n",
        "# la capa de entrada están conectadas con los 784 píxeles = 28*28. Solo lo \n",
        "# definimos para la primera capa. Para la segunda capa y posteriores, Keras lo \n",
        "# deduce.\n",
        "network.add(layers.Dense(10, activation='relu', input_shape=(28*28,)))\n",
        "# Probar 10 neuronas y 'sigmoid' <==============================================\n",
        "# Capa de salida \"softmax\" de 10 vías (o neuronas). Significa que  \n",
        "# devolverá una matriz de 10 puntuaciones de probabilidad (sumando 1)\n",
        "# La puntuación será la probabilidad de que la imagen del dígito actual \n",
        "# pertenezca a una de nuestras clases de 10 dígitos.\n",
        "network.add(layers.Dense(10, activation='softmax'))\n",
        "# Cada capa aplica unas cuantas operaciones con tensores sencillas a los datos\n",
        "# de entrada, y que estas operaciones implican tensores de pesos. Los tensores\n",
        "# de peso, que son los atributos de las capas, son donde persiste el \n",
        "# \"conocimiento\" de la red.\n",
        "# En general, la capa de salida de una red de clasificación tendrá tantas\n",
        "# neuronas como clases, menos en la clasificación binaria, que con 1 vale. Cada \n",
        "# valor será la probabilidad de que la imagen del dígito actual pertenezca a cada\n",
        "# una de las clases\n",
        "network.summary()\n",
        "# Nombre de las capas automáticos a no ser que lo definamos\n",
        "# 7850 = 784 x 10 + 10 Sesgo\n",
        "# 110 = 10x10 + 10 Sesgo\n",
        "# 7960 = 7850 + 110"
      ],
      "metadata": {
        "colab": {
          "base_uri": "https://localhost:8080/"
        },
        "id": "JAd5g4-FZazk",
        "outputId": "b758c7d6-809f-435c-a661-3fe09c22f7ee"
      },
      "execution_count": 32,
      "outputs": [
        {
          "output_type": "stream",
          "name": "stdout",
          "text": [
            "Model: \"sequential_1\"\n",
            "_________________________________________________________________\n",
            " Layer (type)                Output Shape              Param #   \n",
            "=================================================================\n",
            " dense_2 (Dense)             (None, 10)                7850      \n",
            "                                                                 \n",
            " dense_3 (Dense)             (None, 10)                110       \n",
            "                                                                 \n",
            "=================================================================\n",
            "Total params: 7,960\n",
            "Trainable params: 7,960\n",
            "Non-trainable params: 0\n",
            "_________________________________________________________________\n"
          ]
        }
      ]
    },
    {
      "cell_type": "code",
      "source": [
        "# 4.- HACEMOS EL PASO DE COMPILACIÓN CARGANDO EL  \n",
        "# OPTIMIZADOR, LA FUNCIÓN DE PÉRDIDA Y LAS MÉTRICAS\n",
        "# Algoritmo optimizador sgd: Es un algoritmo \n",
        "network.compile(optimizer='sgd',\n",
        "                loss='categorical_crossentropy',\n",
        "                metrics=['accuracy'])\n",
        "# 'categorical_crossentropy' es la función de pérdida que se utiliza como señal\n",
        "# de retroalimentación para aprender los tensores de peso y que la fase de \n",
        "# entrenamiento intentará minimizar\n",
        "# La reducción de la pérdida se produce mediante el descenso de gradiente\n",
        "# estocástico minilote, cuyas reglas exactas están gobernadas por el optimizador\n",
        "# 'sgd'\n",
        "# 'accuracy': Solo tendremos en cuenta la fracción de imágenes que son\n",
        "# correctamente clasificadas "
      ],
      "metadata": {
        "id": "HomBMo6kcih-"
      },
      "execution_count": 33,
      "outputs": []
    },
    {
      "cell_type": "code",
      "source": [
        "# 5.- PREPARAMOS LOS DATOS DE IMAGEN CON ALGUNA TRANSFORMACIÓN. NORMALIZACION\n",
        "# Los tensores transformados tienen la misma cantidad de datos total que el \n",
        "# tensor inicial\n",
        "train_images = train_images.reshape((60000, 28 * 28))\n",
        "print(train_images)\n",
        "print(len(train_images))\n",
        "print(train_images.shape)\n",
        "np.set_printoptions(precision=2, suppress=True, linewidth=145)\n",
        "print(np.matrix(train_images[3000]))"
      ],
      "metadata": {
        "colab": {
          "base_uri": "https://localhost:8080/"
        },
        "id": "P0BEa7DSdUTM",
        "outputId": "d63eee9a-47ec-498d-808f-77884204c80e"
      },
      "execution_count": 35,
      "outputs": [
        {
          "output_type": "stream",
          "name": "stdout",
          "text": [
            "[[0 0 0 ... 0 0 0]\n",
            " [0 0 0 ... 0 0 0]\n",
            " [0 0 0 ... 0 0 0]\n",
            " ...\n",
            " [0 0 0 ... 0 0 0]\n",
            " [0 0 0 ... 0 0 0]\n",
            " [0 0 0 ... 0 0 0]]\n",
            "60000\n",
            "(60000, 784)\n",
            "[[  0   0   0   0   0   0   0   0   1   1   0   0 120 131  91 147  30   0   0   1   1   0   0   0   0   0   0   0   0   0   0   0   0   0   1\n",
            "    3   0   0   0   0 251 199 172 195 152   0   0   0   0   3   1   0   0   0   0   0   0   0   0   0   0   0   0   0   0  43 124 193 166 239\n",
            "  255 216 172 228 126  61   0   0   0   0   0   0   0   0   0   0   0   0   0   0   0  96 167 155 159 171 178 211 215 210 196 189 158 164 159\n",
            "  108   0   0   0   0   0   0   0   0   0   0   0   0  83 157 131 117 120 148 148 145 178 159 174 160 123 132 142 172  38   0   0   0   0   0\n",
            "    0   0   0   0   0   0 159 128 118 120 122 112  93 124 161 109 128 128 129 146 138 167 122   0   0   0   0   0   0   0   0   0   0   0 171\n",
            "  135 120 114 118 119 107 125 123 117 124 124 119 145 147 166 148   0   0   0   0   0   0   0   0   0   0   4 171 138 126 120 117 118 102 122\n",
            "  145 111 120 122 120 152 154 155 170   0   0   0   0   0   0   0   0   0   0  31 170 129 138 125 113 106 103 118 137 108 135 130 158 182 138\n",
            "  143 186   0   0   0   0   0   0   0   0   0   0  58 163 114 137 143 119 103 100 109 118 109 129 134 172 181 131 136 190   0   0   0   0   0\n",
            "    0   0   0   0   0  76 160 113 141 148 128 111 101 116 137 111 131 142 167 183 136 120 186  12   0   0   0   0   0   0   0   0   0 100 148\n",
            "  108 147 147 134 120 105 116 131 116 136 137 165 192 137 113 187  30   0   0   0   0   0   0   0   0   0 114 143 108 158 147 130 125 106 114\n",
            "  122 119 129 134 160 196 136 109 182  51   0   0   0   0   0   0   0   0   0 120 140 117 151 148 131 124 109 120 143 120 130 128 159 188 111\n",
            "  108 178  66   0   0   0   0   0   0   0   0   0 125 129 128 112 145 140 122 113 118 134 117 132 128 166 157  91 120 170  74   0   0   0   0\n",
            "    0   0   0   0   0 126 123 138  74 140 143 124 111 112 126 120 130 129 175 120  88 128 164  91   0   0   0   0   0   0   0   0   0 124 123\n",
            "  157  45 145 143 124 113 119 148 122 131 129 183  90  73 137 155  99   0   0   0   0   0   0   0   0   0 118 122 167   0 143 149 122 112 118\n",
            "  137 116 132 126 183  73  50 152 147 101   0   0   0   0   0   0   0   0   0 111 128 164   0 142 151 122 111 117 132 120 136 125 182  90  18\n",
            "  164 145 107   0   0   0   0   0   0   0   0   0 109 132 158   0 146 148 120 108 125 157 120 136 131 176 111   0 164 143 118   0   0   0   0\n",
            "    0   0   0   0   0 111 141 140   0 148 149 120 114 123 137 124 137 131 171 135   0 157 147 125   0   0   0   0   0   0   0   0   0 111 154\n",
            "  111   0 155 148 118 116 124 143 123 131 129 167 155   0 129 157 129   0   0   0   0   0   0   0   0   0 109 155  87   0 157 145 119 117 126\n",
            "  154 126 130 123 161 160   0  97 163 130   0   0   0   0   0   0   0   0   0 124 142  54   0 149 141 119 119 124 136 129 126 120 153 175   0\n",
            "   76 145 137   0   0   0   0   0   0   0   0   0 136 151  47   0 149 137 119 118 126 143 132 130 123 153 172   0  66 148 154   0   0   0   0\n",
            "    0   0   0   0   0 109 174  48   0 154 138 119 117 124 138 130 129 125 159 167   0  58 174 128   0   0   0   0   0   0   0   0   0   0   0\n",
            "    0   0  85 182 147 136 143 158 146 148 153 199  70   0   0   0   0   0   0   0   0   0   0   0   0   0   0   0   0   0   0  26  54  72  83\n",
            "   96  85  80  61  14   0   0   0   0   0   0   0   0   0]]\n"
          ]
        }
      ]
    },
    {
      "cell_type": "code",
      "source": [
        "train_images = train_images.astype('float32') / 255\n",
        "train_images, len(train_images), train_images.shape, train_images[3000]"
      ],
      "metadata": {
        "colab": {
          "base_uri": "https://localhost:8080/"
        },
        "id": "1yAW8niMdehk",
        "outputId": "964cee52-5fc6-4166-cc9b-3f89b2f6fb47"
      },
      "execution_count": 36,
      "outputs": [
        {
          "output_type": "execute_result",
          "data": {
            "text/plain": [
              "(array([[0., 0., 0., ..., 0., 0., 0.],\n",
              "        [0., 0., 0., ..., 0., 0., 0.],\n",
              "        [0., 0., 0., ..., 0., 0., 0.],\n",
              "        ...,\n",
              "        [0., 0., 0., ..., 0., 0., 0.],\n",
              "        [0., 0., 0., ..., 0., 0., 0.],\n",
              "        [0., 0., 0., ..., 0., 0., 0.]], dtype=float32),\n",
              " 60000,\n",
              " (60000, 784),\n",
              " array([0.  , 0.  , 0.  , 0.  , 0.  , 0.  , 0.  , 0.  , 0.  , 0.  , 0.  , 0.  , 0.47, 0.51, 0.36, 0.58, 0.12, 0.  , 0.  , 0.  , 0.  , 0.  , 0.  ,\n",
              "        0.  , 0.  , 0.  , 0.  , 0.  , 0.  , 0.  , 0.  , 0.  , 0.  , 0.  , 0.  , 0.01, 0.  , 0.  , 0.  , 0.  , 0.98, 0.78, 0.67, 0.76, 0.6 , 0.  ,\n",
              "        0.  , 0.  , 0.  , 0.01, 0.  , 0.  , 0.  , 0.  , 0.  , 0.  , 0.  , 0.  , 0.  , 0.  , 0.  , 0.  , 0.  , 0.  , 0.  , 0.17, 0.49, 0.76, 0.65,\n",
              "        0.94, 1.  , 0.85, 0.67, 0.89, 0.49, 0.24, 0.  , 0.  , 0.  , 0.  , 0.  , 0.  , 0.  , 0.  , 0.  , 0.  , 0.  , 0.  , 0.  , 0.  , 0.  , 0.38,\n",
              "        0.65, 0.61, 0.62, 0.67, 0.7 , 0.83, 0.84, 0.82, 0.77, 0.74, 0.62, 0.64, 0.62, 0.42, 0.  , 0.  , 0.  , 0.  , 0.  , 0.  , 0.  , 0.  , 0.  ,\n",
              "        0.  , 0.  , 0.  , 0.33, 0.62, 0.51, 0.46, 0.47, 0.58, 0.58, 0.57, 0.7 , 0.62, 0.68, 0.63, 0.48, 0.52, 0.56, 0.67, 0.15, 0.  , 0.  , 0.  ,\n",
              "        0.  , 0.  , 0.  , 0.  , 0.  , 0.  , 0.  , 0.  , 0.62, 0.5 , 0.46, 0.47, 0.48, 0.44, 0.36, 0.49, 0.63, 0.43, 0.5 , 0.5 , 0.51, 0.57, 0.54,\n",
              "        0.65, 0.48, 0.  , 0.  , 0.  , 0.  , 0.  , 0.  , 0.  , 0.  , 0.  , 0.  , 0.  , 0.67, 0.53, 0.47, 0.45, 0.46, 0.47, 0.42, 0.49, 0.48, 0.46,\n",
              "        0.49, 0.49, 0.47, 0.57, 0.58, 0.65, 0.58, 0.  , 0.  , 0.  , 0.  , 0.  , 0.  , 0.  , 0.  , 0.  , 0.  , 0.02, 0.67, 0.54, 0.49, 0.47, 0.46,\n",
              "        0.46, 0.4 , 0.48, 0.57, 0.44, 0.47, 0.48, 0.47, 0.6 , 0.6 , 0.61, 0.67, 0.  , 0.  , 0.  , 0.  , 0.  , 0.  , 0.  , 0.  , 0.  , 0.  , 0.12,\n",
              "        0.67, 0.51, 0.54, 0.49, 0.44, 0.42, 0.4 , 0.46, 0.54, 0.42, 0.53, 0.51, 0.62, 0.71, 0.54, 0.56, 0.73, 0.  , 0.  , 0.  , 0.  , 0.  , 0.  ,\n",
              "        0.  , 0.  , 0.  , 0.  , 0.23, 0.64, 0.45, 0.54, 0.56, 0.47, 0.4 , 0.39, 0.43, 0.46, 0.43, 0.51, 0.53, 0.67, 0.71, 0.51, 0.53, 0.75, 0.  ,\n",
              "        0.  , 0.  , 0.  , 0.  , 0.  , 0.  , 0.  , 0.  , 0.  , 0.3 , 0.63, 0.44, 0.55, 0.58, 0.5 , 0.44, 0.4 , 0.45, 0.54, 0.44, 0.51, 0.56, 0.65,\n",
              "        0.72, 0.53, 0.47, 0.73, 0.05, 0.  , 0.  , 0.  , 0.  , 0.  , 0.  , 0.  , 0.  , 0.  , 0.39, 0.58, 0.42, 0.58, 0.58, 0.53, 0.47, 0.41, 0.45,\n",
              "        0.51, 0.45, 0.53, 0.54, 0.65, 0.75, 0.54, 0.44, 0.73, 0.12, 0.  , 0.  , 0.  , 0.  , 0.  , 0.  , 0.  , 0.  , 0.  , 0.45, 0.56, 0.42, 0.62,\n",
              "        0.58, 0.51, 0.49, 0.42, 0.45, 0.48, 0.47, 0.51, 0.53, 0.63, 0.77, 0.53, 0.43, 0.71, 0.2 , 0.  , 0.  , 0.  , 0.  , 0.  , 0.  , 0.  , 0.  ,\n",
              "        0.  , 0.47, 0.55, 0.46, 0.59, 0.58, 0.51, 0.49, 0.43, 0.47, 0.56, 0.47, 0.51, 0.5 , 0.62, 0.74, 0.44, 0.42, 0.7 , 0.26, 0.  , 0.  , 0.  ,\n",
              "        0.  , 0.  , 0.  , 0.  , 0.  , 0.  , 0.49, 0.51, 0.5 , 0.44, 0.57, 0.55, 0.48, 0.44, 0.46, 0.53, 0.46, 0.52, 0.5 , 0.65, 0.62, 0.36, 0.47,\n",
              "        0.67, 0.29, 0.  , 0.  , 0.  , 0.  , 0.  , 0.  , 0.  , 0.  , 0.  , 0.49, 0.48, 0.54, 0.29, 0.55, 0.56, 0.49, 0.44, 0.44, 0.49, 0.47, 0.51,\n",
              "        0.51, 0.69, 0.47, 0.35, 0.5 , 0.64, 0.36, 0.  , 0.  , 0.  , 0.  , 0.  , 0.  , 0.  , 0.  , 0.  , 0.49, 0.48, 0.62, 0.18, 0.57, 0.56, 0.49,\n",
              "        0.44, 0.47, 0.58, 0.48, 0.51, 0.51, 0.72, 0.35, 0.29, 0.54, 0.61, 0.39, 0.  , 0.  , 0.  , 0.  , 0.  , 0.  , 0.  , 0.  , 0.  , 0.46, 0.48,\n",
              "        0.65, 0.  , 0.56, 0.58, 0.48, 0.44, 0.46, 0.54, 0.45, 0.52, 0.49, 0.72, 0.29, 0.2 , 0.6 , 0.58, 0.4 , 0.  , 0.  , 0.  , 0.  , 0.  , 0.  ,\n",
              "        0.  , 0.  , 0.  , 0.44, 0.5 , 0.64, 0.  , 0.56, 0.59, 0.48, 0.44, 0.46, 0.52, 0.47, 0.53, 0.49, 0.71, 0.35, 0.07, 0.64, 0.57, 0.42, 0.  ,\n",
              "        0.  , 0.  , 0.  , 0.  , 0.  , 0.  , 0.  , 0.  , 0.43, 0.52, 0.62, 0.  , 0.57, 0.58, 0.47, 0.42, 0.49, 0.62, 0.47, 0.53, 0.51, 0.69, 0.44,\n",
              "        0.  , 0.64, 0.56, 0.46, 0.  , 0.  , 0.  , 0.  , 0.  , 0.  , 0.  , 0.  , 0.  , 0.44, 0.55, 0.55, 0.  , 0.58, 0.58, 0.47, 0.45, 0.48, 0.54,\n",
              "        0.49, 0.54, 0.51, 0.67, 0.53, 0.  , 0.62, 0.58, 0.49, 0.  , 0.  , 0.  , 0.  , 0.  , 0.  , 0.  , 0.  , 0.  , 0.44, 0.6 , 0.44, 0.  , 0.61,\n",
              "        0.58, 0.46, 0.45, 0.49, 0.56, 0.48, 0.51, 0.51, 0.65, 0.61, 0.  , 0.51, 0.62, 0.51, 0.  , 0.  , 0.  , 0.  , 0.  , 0.  , 0.  , 0.  , 0.  ,\n",
              "        0.43, 0.61, 0.34, 0.  , 0.62, 0.57, 0.47, 0.46, 0.49, 0.6 , 0.49, 0.51, 0.48, 0.63, 0.63, 0.  , 0.38, 0.64, 0.51, 0.  , 0.  , 0.  , 0.  ,\n",
              "        0.  , 0.  , 0.  , 0.  , 0.  , 0.49, 0.56, 0.21, 0.  , 0.58, 0.55, 0.47, 0.47, 0.49, 0.53, 0.51, 0.49, 0.47, 0.6 , 0.69, 0.  , 0.3 , 0.57,\n",
              "        0.54, 0.  , 0.  , 0.  , 0.  , 0.  , 0.  , 0.  , 0.  , 0.  , 0.53, 0.59, 0.18, 0.  , 0.58, 0.54, 0.47, 0.46, 0.49, 0.56, 0.52, 0.51, 0.48,\n",
              "        0.6 , 0.67, 0.  , 0.26, 0.58, 0.6 , 0.  , 0.  , 0.  , 0.  , 0.  , 0.  , 0.  , 0.  , 0.  , 0.43, 0.68, 0.19, 0.  , 0.6 , 0.54, 0.47, 0.46,\n",
              "        0.49, 0.54, 0.51, 0.51, 0.49, 0.62, 0.65, 0.  , 0.23, 0.68, 0.5 , 0.  , 0.  , 0.  , 0.  , 0.  , 0.  , 0.  , 0.  , 0.  , 0.  , 0.  , 0.  ,\n",
              "        0.  , 0.33, 0.71, 0.58, 0.53, 0.56, 0.62, 0.57, 0.58, 0.6 , 0.78, 0.27, 0.  , 0.  , 0.  , 0.  , 0.  , 0.  , 0.  , 0.  , 0.  , 0.  , 0.  ,\n",
              "        0.  , 0.  , 0.  , 0.  , 0.  , 0.  , 0.  , 0.1 , 0.21, 0.28, 0.33, 0.38, 0.33, 0.31, 0.24, 0.05, 0.  , 0.  , 0.  , 0.  , 0.  , 0.  , 0.  ,\n",
              "        0.  , 0.  ], dtype=float32))"
            ]
          },
          "metadata": {},
          "execution_count": 36
        }
      ]
    },
    {
      "cell_type": "code",
      "source": [
        "test_images = test_images.reshape((10000, 28 * 28))\n",
        "test_images = test_images.astype('float32') / 255"
      ],
      "metadata": {
        "id": "s-IDNwmsdmJu"
      },
      "execution_count": 37,
      "outputs": []
    },
    {
      "cell_type": "code",
      "source": [
        "# 6.- PREPARACIÓN LAS ETIQUETAS\n",
        "# from keras import utils\n",
        "# from keras.utils import to_categorical\n",
        "from keras.utils.np_utils import to_categorical\n",
        "\n",
        "train_labels = to_categorical(train_labels)\n",
        "test_labels = to_categorical(test_labels)\n",
        "train_labels[30000] # Posición 0 a 9 donde solo la 3 tiene probabilidad 1.\n",
        "# El número 30000 de entrenamiento es un 3"
      ],
      "metadata": {
        "colab": {
          "base_uri": "https://localhost:8080/"
        },
        "id": "9pj4X0VWdrvU",
        "outputId": "aa44032e-644f-45da-e84c-fdb539963d3b"
      },
      "execution_count": 40,
      "outputs": [
        {
          "output_type": "execute_result",
          "data": {
            "text/plain": [
              "array([[[0., 1.],\n",
              "        [1., 0.]],\n",
              "\n",
              "       [[0., 1.],\n",
              "        [1., 0.]],\n",
              "\n",
              "       [[0., 1.],\n",
              "        [1., 0.]],\n",
              "\n",
              "       [[1., 0.],\n",
              "        [0., 1.]],\n",
              "\n",
              "       [[0., 1.],\n",
              "        [1., 0.]],\n",
              "\n",
              "       [[0., 1.],\n",
              "        [1., 0.]],\n",
              "\n",
              "       [[0., 1.],\n",
              "        [1., 0.]],\n",
              "\n",
              "       [[0., 1.],\n",
              "        [1., 0.]],\n",
              "\n",
              "       [[0., 1.],\n",
              "        [1., 0.]],\n",
              "\n",
              "       [[0., 1.],\n",
              "        [1., 0.]]], dtype=float32)"
            ]
          },
          "metadata": {},
          "execution_count": 40
        }
      ]
    }
  ]
}