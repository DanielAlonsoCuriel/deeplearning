{
  "nbformat": 4,
  "nbformat_minor": 0,
  "metadata": {
    "colab": {
      "provenance": [],
      "collapsed_sections": [],
      "include_colab_link": true
    },
    "kernelspec": {
      "name": "python3",
      "display_name": "Python 3"
    },
    "language_info": {
      "name": "python"
    },
    "accelerator": "TPU",
    "gpuClass": "standard"
  },
  "cells": [
    {
      "cell_type": "markdown",
      "metadata": {
        "id": "view-in-github",
        "colab_type": "text"
      },
      "source": [
        "<a href=\"https://colab.research.google.com/github/DanielAlonsoCuriel/deeplearning/blob/main/PRACTICA_Fashion_MNIST.ipynb\" target=\"_parent\"><img src=\"https://colab.research.google.com/assets/colab-badge.svg\" alt=\"Open In Colab\"/></a>"
      ]
    },
    {
      "cell_type": "code",
      "execution_count": 287,
      "metadata": {
        "id": "Kj0gniXK4uEd"
      },
      "outputs": [],
      "source": [
        "import tensorflow as tf\n",
        "from tensorflow import keras\n",
        "from keras import layers\n",
        "import numpy as np"
      ]
    },
    {
      "cell_type": "markdown",
      "source": [
        "s"
      ],
      "metadata": {
        "id": "PtM5VECf5oDf"
      }
    },
    {
      "cell_type": "code",
      "source": [
        "from keras.datasets import fashion_mnist "
      ],
      "metadata": {
        "id": "ceq8WM5X5pe2"
      },
      "execution_count": 288,
      "outputs": []
    },
    {
      "cell_type": "markdown",
      "source": [
        "s"
      ],
      "metadata": {
        "id": "jzReK10H7AfF"
      }
    },
    {
      "cell_type": "code",
      "source": [],
      "metadata": {
        "id": "DDkuHukRqYZ4"
      },
      "execution_count": 288,
      "outputs": []
    },
    {
      "cell_type": "code",
      "source": [
        "(train_data, train_labels), (test_data, test_labels) = fashion_mnist.load_data()"
      ],
      "metadata": {
        "id": "mzpV04AT7BUO"
      },
      "execution_count": 289,
      "outputs": []
    },
    {
      "cell_type": "markdown",
      "source": [],
      "metadata": {
        "id": "haPzOOrG5mR1"
      }
    },
    {
      "cell_type": "markdown",
      "source": [
        "s"
      ],
      "metadata": {
        "id": "W_I1JY-L8Jhl"
      }
    },
    {
      "cell_type": "code",
      "source": [
        "len(train_data)"
      ],
      "metadata": {
        "colab": {
          "base_uri": "https://localhost:8080/"
        },
        "id": "inZi5pdR8KeS",
        "outputId": "ebd1d3ea-fc31-447a-8e90-c7bcf0e0bfc6"
      },
      "execution_count": 290,
      "outputs": [
        {
          "output_type": "execute_result",
          "data": {
            "text/plain": [
              "60000"
            ]
          },
          "metadata": {},
          "execution_count": 290
        }
      ]
    },
    {
      "cell_type": "markdown",
      "source": [
        "s"
      ],
      "metadata": {
        "id": "o_iS-Nu08NdT"
      }
    },
    {
      "cell_type": "code",
      "source": [
        "len(test_data)"
      ],
      "metadata": {
        "colab": {
          "base_uri": "https://localhost:8080/"
        },
        "id": "vIthQGi08OTd",
        "outputId": "02785709-2446-41e1-a1b1-d610a11f7116"
      },
      "execution_count": 291,
      "outputs": [
        {
          "output_type": "execute_result",
          "data": {
            "text/plain": [
              "10000"
            ]
          },
          "metadata": {},
          "execution_count": 291
        }
      ]
    },
    {
      "cell_type": "markdown",
      "source": [
        "s"
      ],
      "metadata": {
        "id": "3TRqQrP_9G81"
      }
    },
    {
      "cell_type": "code",
      "source": [
        "print(train_data.shape)\n",
        "print(test_data.shape)"
      ],
      "metadata": {
        "colab": {
          "base_uri": "https://localhost:8080/"
        },
        "id": "jS6NDPmSRsWx",
        "outputId": "bdc230aa-e14b-4e41-8789-f69175e0f5a6"
      },
      "execution_count": 292,
      "outputs": [
        {
          "output_type": "stream",
          "name": "stdout",
          "text": [
            "(60000, 28, 28)\n",
            "(10000, 28, 28)\n"
          ]
        }
      ]
    },
    {
      "cell_type": "markdown",
      "source": [
        "s"
      ],
      "metadata": {
        "id": "oqUS89i0Rxqp"
      }
    },
    {
      "cell_type": "code",
      "source": [
        "train_data = train_data.reshape((60000, 28 * 28))\n",
        "print(train_data)\n",
        "print(np.matrix(train_data[3000]))"
      ],
      "metadata": {
        "colab": {
          "base_uri": "https://localhost:8080/"
        },
        "id": "9FhG-daMMP5f",
        "outputId": "0ea01025-1a0f-4c03-ceb8-2b9b23874de8"
      },
      "execution_count": 293,
      "outputs": [
        {
          "output_type": "stream",
          "name": "stdout",
          "text": [
            "[[0 0 0 ... 0 0 0]\n",
            " [0 0 0 ... 0 0 0]\n",
            " [0 0 0 ... 0 0 0]\n",
            " ...\n",
            " [0 0 0 ... 0 0 0]\n",
            " [0 0 0 ... 0 0 0]\n",
            " [0 0 0 ... 0 0 0]]\n",
            "[[  0   0   0   0   0   0   0   0   1   1   0   0 120 131  91 147  30   0   0   1   1   0   0   0   0   0   0   0   0   0   0   0   0   0   1\n",
            "    3   0   0   0   0 251 199 172 195 152   0   0   0   0   3   1   0   0   0   0   0   0   0   0   0   0   0   0   0   0  43 124 193 166 239\n",
            "  255 216 172 228 126  61   0   0   0   0   0   0   0   0   0   0   0   0   0   0   0  96 167 155 159 171 178 211 215 210 196 189 158 164 159\n",
            "  108   0   0   0   0   0   0   0   0   0   0   0   0  83 157 131 117 120 148 148 145 178 159 174 160 123 132 142 172  38   0   0   0   0   0\n",
            "    0   0   0   0   0   0 159 128 118 120 122 112  93 124 161 109 128 128 129 146 138 167 122   0   0   0   0   0   0   0   0   0   0   0 171\n",
            "  135 120 114 118 119 107 125 123 117 124 124 119 145 147 166 148   0   0   0   0   0   0   0   0   0   0   4 171 138 126 120 117 118 102 122\n",
            "  145 111 120 122 120 152 154 155 170   0   0   0   0   0   0   0   0   0   0  31 170 129 138 125 113 106 103 118 137 108 135 130 158 182 138\n",
            "  143 186   0   0   0   0   0   0   0   0   0   0  58 163 114 137 143 119 103 100 109 118 109 129 134 172 181 131 136 190   0   0   0   0   0\n",
            "    0   0   0   0   0  76 160 113 141 148 128 111 101 116 137 111 131 142 167 183 136 120 186  12   0   0   0   0   0   0   0   0   0 100 148\n",
            "  108 147 147 134 120 105 116 131 116 136 137 165 192 137 113 187  30   0   0   0   0   0   0   0   0   0 114 143 108 158 147 130 125 106 114\n",
            "  122 119 129 134 160 196 136 109 182  51   0   0   0   0   0   0   0   0   0 120 140 117 151 148 131 124 109 120 143 120 130 128 159 188 111\n",
            "  108 178  66   0   0   0   0   0   0   0   0   0 125 129 128 112 145 140 122 113 118 134 117 132 128 166 157  91 120 170  74   0   0   0   0\n",
            "    0   0   0   0   0 126 123 138  74 140 143 124 111 112 126 120 130 129 175 120  88 128 164  91   0   0   0   0   0   0   0   0   0 124 123\n",
            "  157  45 145 143 124 113 119 148 122 131 129 183  90  73 137 155  99   0   0   0   0   0   0   0   0   0 118 122 167   0 143 149 122 112 118\n",
            "  137 116 132 126 183  73  50 152 147 101   0   0   0   0   0   0   0   0   0 111 128 164   0 142 151 122 111 117 132 120 136 125 182  90  18\n",
            "  164 145 107   0   0   0   0   0   0   0   0   0 109 132 158   0 146 148 120 108 125 157 120 136 131 176 111   0 164 143 118   0   0   0   0\n",
            "    0   0   0   0   0 111 141 140   0 148 149 120 114 123 137 124 137 131 171 135   0 157 147 125   0   0   0   0   0   0   0   0   0 111 154\n",
            "  111   0 155 148 118 116 124 143 123 131 129 167 155   0 129 157 129   0   0   0   0   0   0   0   0   0 109 155  87   0 157 145 119 117 126\n",
            "  154 126 130 123 161 160   0  97 163 130   0   0   0   0   0   0   0   0   0 124 142  54   0 149 141 119 119 124 136 129 126 120 153 175   0\n",
            "   76 145 137   0   0   0   0   0   0   0   0   0 136 151  47   0 149 137 119 118 126 143 132 130 123 153 172   0  66 148 154   0   0   0   0\n",
            "    0   0   0   0   0 109 174  48   0 154 138 119 117 124 138 130 129 125 159 167   0  58 174 128   0   0   0   0   0   0   0   0   0   0   0\n",
            "    0   0  85 182 147 136 143 158 146 148 153 199  70   0   0   0   0   0   0   0   0   0   0   0   0   0   0   0   0   0   0  26  54  72  83\n",
            "   96  85  80  61  14   0   0   0   0   0   0   0   0   0]]\n"
          ]
        }
      ]
    },
    {
      "cell_type": "markdown",
      "source": [
        "train_data = train_data.astype('float32') / 255\n",
        "train_data[3000]"
      ],
      "metadata": {
        "id": "Hj2ys7KKMb60"
      }
    },
    {
      "cell_type": "markdown",
      "source": [
        "test_data = train_data.astype('float32') / 255"
      ],
      "metadata": {
        "id": "MG3ta-rqNUwo"
      }
    },
    {
      "cell_type": "markdown",
      "source": [
        "s"
      ],
      "metadata": {
        "id": "euXfbR6SPeh6"
      }
    },
    {
      "cell_type": "code",
      "source": [
        "from keras.utils.np_utils import to_categorical\n",
        "\n",
        "one_hot_train_labels = to_categorical(train_labels)\n",
        "one_hot_test_labels = to_categorical(test_labels)\n",
        "one_hot_train_labels[30000]"
      ],
      "metadata": {
        "colab": {
          "base_uri": "https://localhost:8080/"
        },
        "id": "GW3NxRqYQQZ6",
        "outputId": "cc351b38-694b-4187-ffbd-2a9ff9f9df52"
      },
      "execution_count": 294,
      "outputs": [
        {
          "output_type": "execute_result",
          "data": {
            "text/plain": [
              "array([0., 0., 0., 1., 0., 0., 0., 0., 0., 0.], dtype=float32)"
            ]
          },
          "metadata": {},
          "execution_count": 294
        }
      ]
    },
    {
      "cell_type": "markdown",
      "source": [
        "s"
      ],
      "metadata": {
        "id": "yTEzceXEQs__"
      }
    },
    {
      "cell_type": "code",
      "source": [
        "from keras import optimizers\n",
        "from keras import losses\n",
        "from keras import metrics\n",
        "from keras import models\n",
        "from keras import layers\n",
        "\n",
        "\n",
        "model = models.Sequential()\n",
        "\n",
        "#Capa 1\n",
        "model.add(layers.Dense(10, activation='relu', name=\"Capa1\",input_shape=(28*28,)))\n",
        "\n",
        "\n",
        "#Capa final\n",
        "model.add(layers.Dense(10, name=\"CapaSalida\",activation='softmax'))\n"
      ],
      "metadata": {
        "id": "JsOqWzLPKiTj"
      },
      "execution_count": 295,
      "outputs": []
    },
    {
      "cell_type": "markdown",
      "source": [
        "s"
      ],
      "metadata": {
        "id": "O7ykuaNzMnqg"
      }
    },
    {
      "cell_type": "code",
      "source": [],
      "metadata": {
        "id": "CGVxXx2TpUd7"
      },
      "execution_count": 295,
      "outputs": []
    },
    {
      "cell_type": "markdown",
      "source": [
        "#Capa 2\n",
        "model.add(layers.Dense(10, name=\"Capa2\",activation='relu'))\n",
        "model.compile(optimizer='rmsprop',\n",
        "              loss='categorical_crossentropy',\n",
        "              metrics=['accuracy'])\n",
        "#Capa 3\n",
        "model.add(layers.Dense(10, name=\"Capa3\",activation='sigmoid'))\n",
        "model.compile(optimizer='sgd',\n",
        "              loss='categorical_crossentropy',\n",
        "              metrics=['accuracy'])\n",
        "#Capa 4\n",
        "model.add(layers.Dense(10, name=\"Capa4\",activation='sigmoid'))\n",
        "model.compile(optimizer='rmsprop',\n",
        "              loss='categorical_crossentropy',\n",
        "              metrics=['accuracy'])\n",
        "#Capa 5\n",
        "model.add(layers.Dense(512, name=\"Capa5\",activation='relu'))\n",
        "model.compile(optimizer='sgd',\n",
        "              loss='categorical_crossentropy',\n",
        "              metrics=['accuracy'])\n",
        "#Capa 6\n",
        "model.add(layers.Dense(512, name=\"Capa6\",activation='relu'))\n",
        "model.compile(optimizer='rmsprop',\n",
        "              loss='categorical_crossentropy',\n",
        "              metrics=['accuracy'])\n",
        "#Capa 7\n",
        "model.add(layers.Dense(512, name=\"Capa7\",activation='sigmoid'))\n",
        "model.compile(optimizer='sgd',\n",
        "              loss='categorical_crossentropy',\n",
        "              metrics=['accuracy'])\n",
        "#Capa 8\n",
        "model.add(layers.Dense(512, name=\"Capa8\",activation='sigmoid'))\n",
        "model.compile(optimizer='rmsprop',\n",
        "              loss='categorical_crossentropy',\n",
        "              metrics=['accuracy'])\n",
        "\n"
      ],
      "metadata": {
        "id": "FHIIAPEUpdpu"
      }
    },
    {
      "cell_type": "code",
      "source": [
        "model.summary()\n"
      ],
      "metadata": {
        "colab": {
          "base_uri": "https://localhost:8080/"
        },
        "id": "jQlpbPf-Qdiv",
        "outputId": "4811741c-cdeb-4c2c-a404-4185f3a33907"
      },
      "execution_count": 296,
      "outputs": [
        {
          "output_type": "stream",
          "name": "stdout",
          "text": [
            "Model: \"sequential_12\"\n",
            "_________________________________________________________________\n",
            " Layer (type)                Output Shape              Param #   \n",
            "=================================================================\n",
            " Capa1 (Dense)               (None, 10)                7850      \n",
            "                                                                 \n",
            " CapaSalida (Dense)          (None, 10)                110       \n",
            "                                                                 \n",
            "=================================================================\n",
            "Total params: 7,960\n",
            "Trainable params: 7,960\n",
            "Non-trainable params: 0\n",
            "_________________________________________________________________\n"
          ]
        }
      ]
    },
    {
      "cell_type": "code",
      "source": [
        "import tensorflow as tf\n",
        "from tensorflow import keras\n",
        "from tensorflow.keras import layers"
      ],
      "metadata": {
        "id": "mGpf2f3srF7a"
      },
      "execution_count": 297,
      "outputs": []
    },
    {
      "cell_type": "code",
      "source": [
        "model.compile(optimizer='sgd',\n",
        "                loss='categorical_crossentropy',\n",
        "                metrics=['accuracy'])"
      ],
      "metadata": {
        "id": "DiErw1GkrNNh"
      },
      "execution_count": 298,
      "outputs": []
    },
    {
      "cell_type": "code",
      "source": [
        "# 5.- PREPARAMOS LOS DATOS DE IMAGEN CON ALGUNA TRANSFORMACIÓN. NORMALIZACION\n",
        "# Los tensores transformados tienen la misma cantidad de datos total que el \n",
        "# tensor inicial\n",
        "train_data = train_data.reshape((60000, 28 * 28))\n",
        "print(train_data)\n",
        "print(len(train_data))\n",
        "print(train_data.shape)\n",
        "np.set_printoptions(precision=2, suppress=True, linewidth=145)\n",
        "print(np.matrix(train_data[3000]))"
      ],
      "metadata": {
        "colab": {
          "base_uri": "https://localhost:8080/"
        },
        "id": "UIIashQuryP0",
        "outputId": "6382ac5c-f346-4695-b534-7a2c183287fd"
      },
      "execution_count": 299,
      "outputs": [
        {
          "output_type": "stream",
          "name": "stdout",
          "text": [
            "[[0 0 0 ... 0 0 0]\n",
            " [0 0 0 ... 0 0 0]\n",
            " [0 0 0 ... 0 0 0]\n",
            " ...\n",
            " [0 0 0 ... 0 0 0]\n",
            " [0 0 0 ... 0 0 0]\n",
            " [0 0 0 ... 0 0 0]]\n",
            "60000\n",
            "(60000, 784)\n",
            "[[  0   0   0   0   0   0   0   0   1   1   0   0 120 131  91 147  30   0   0   1   1   0   0   0   0   0   0   0   0   0   0   0   0   0   1\n",
            "    3   0   0   0   0 251 199 172 195 152   0   0   0   0   3   1   0   0   0   0   0   0   0   0   0   0   0   0   0   0  43 124 193 166 239\n",
            "  255 216 172 228 126  61   0   0   0   0   0   0   0   0   0   0   0   0   0   0   0  96 167 155 159 171 178 211 215 210 196 189 158 164 159\n",
            "  108   0   0   0   0   0   0   0   0   0   0   0   0  83 157 131 117 120 148 148 145 178 159 174 160 123 132 142 172  38   0   0   0   0   0\n",
            "    0   0   0   0   0   0 159 128 118 120 122 112  93 124 161 109 128 128 129 146 138 167 122   0   0   0   0   0   0   0   0   0   0   0 171\n",
            "  135 120 114 118 119 107 125 123 117 124 124 119 145 147 166 148   0   0   0   0   0   0   0   0   0   0   4 171 138 126 120 117 118 102 122\n",
            "  145 111 120 122 120 152 154 155 170   0   0   0   0   0   0   0   0   0   0  31 170 129 138 125 113 106 103 118 137 108 135 130 158 182 138\n",
            "  143 186   0   0   0   0   0   0   0   0   0   0  58 163 114 137 143 119 103 100 109 118 109 129 134 172 181 131 136 190   0   0   0   0   0\n",
            "    0   0   0   0   0  76 160 113 141 148 128 111 101 116 137 111 131 142 167 183 136 120 186  12   0   0   0   0   0   0   0   0   0 100 148\n",
            "  108 147 147 134 120 105 116 131 116 136 137 165 192 137 113 187  30   0   0   0   0   0   0   0   0   0 114 143 108 158 147 130 125 106 114\n",
            "  122 119 129 134 160 196 136 109 182  51   0   0   0   0   0   0   0   0   0 120 140 117 151 148 131 124 109 120 143 120 130 128 159 188 111\n",
            "  108 178  66   0   0   0   0   0   0   0   0   0 125 129 128 112 145 140 122 113 118 134 117 132 128 166 157  91 120 170  74   0   0   0   0\n",
            "    0   0   0   0   0 126 123 138  74 140 143 124 111 112 126 120 130 129 175 120  88 128 164  91   0   0   0   0   0   0   0   0   0 124 123\n",
            "  157  45 145 143 124 113 119 148 122 131 129 183  90  73 137 155  99   0   0   0   0   0   0   0   0   0 118 122 167   0 143 149 122 112 118\n",
            "  137 116 132 126 183  73  50 152 147 101   0   0   0   0   0   0   0   0   0 111 128 164   0 142 151 122 111 117 132 120 136 125 182  90  18\n",
            "  164 145 107   0   0   0   0   0   0   0   0   0 109 132 158   0 146 148 120 108 125 157 120 136 131 176 111   0 164 143 118   0   0   0   0\n",
            "    0   0   0   0   0 111 141 140   0 148 149 120 114 123 137 124 137 131 171 135   0 157 147 125   0   0   0   0   0   0   0   0   0 111 154\n",
            "  111   0 155 148 118 116 124 143 123 131 129 167 155   0 129 157 129   0   0   0   0   0   0   0   0   0 109 155  87   0 157 145 119 117 126\n",
            "  154 126 130 123 161 160   0  97 163 130   0   0   0   0   0   0   0   0   0 124 142  54   0 149 141 119 119 124 136 129 126 120 153 175   0\n",
            "   76 145 137   0   0   0   0   0   0   0   0   0 136 151  47   0 149 137 119 118 126 143 132 130 123 153 172   0  66 148 154   0   0   0   0\n",
            "    0   0   0   0   0 109 174  48   0 154 138 119 117 124 138 130 129 125 159 167   0  58 174 128   0   0   0   0   0   0   0   0   0   0   0\n",
            "    0   0  85 182 147 136 143 158 146 148 153 199  70   0   0   0   0   0   0   0   0   0   0   0   0   0   0   0   0   0   0  26  54  72  83\n",
            "   96  85  80  61  14   0   0   0   0   0   0   0   0   0]]\n"
          ]
        }
      ]
    },
    {
      "cell_type": "code",
      "source": [
        "train_data = train_data.astype('float32') / 255\n",
        "train_data, len(train_data), train_data.shape, train_data[3000]"
      ],
      "metadata": {
        "colab": {
          "base_uri": "https://localhost:8080/"
        },
        "id": "NQEq9rTdsFCg",
        "outputId": "8b593e0f-3d2c-45e6-daa1-9719c2ff5546"
      },
      "execution_count": 300,
      "outputs": [
        {
          "output_type": "execute_result",
          "data": {
            "text/plain": [
              "(array([[0., 0., 0., ..., 0., 0., 0.],\n",
              "        [0., 0., 0., ..., 0., 0., 0.],\n",
              "        [0., 0., 0., ..., 0., 0., 0.],\n",
              "        ...,\n",
              "        [0., 0., 0., ..., 0., 0., 0.],\n",
              "        [0., 0., 0., ..., 0., 0., 0.],\n",
              "        [0., 0., 0., ..., 0., 0., 0.]], dtype=float32),\n",
              " 60000,\n",
              " (60000, 784),\n",
              " array([0.  , 0.  , 0.  , 0.  , 0.  , 0.  , 0.  , 0.  , 0.  , 0.  , 0.  , 0.  , 0.47, 0.51, 0.36, 0.58, 0.12, 0.  , 0.  , 0.  , 0.  , 0.  , 0.  ,\n",
              "        0.  , 0.  , 0.  , 0.  , 0.  , 0.  , 0.  , 0.  , 0.  , 0.  , 0.  , 0.  , 0.01, 0.  , 0.  , 0.  , 0.  , 0.98, 0.78, 0.67, 0.76, 0.6 , 0.  ,\n",
              "        0.  , 0.  , 0.  , 0.01, 0.  , 0.  , 0.  , 0.  , 0.  , 0.  , 0.  , 0.  , 0.  , 0.  , 0.  , 0.  , 0.  , 0.  , 0.  , 0.17, 0.49, 0.76, 0.65,\n",
              "        0.94, 1.  , 0.85, 0.67, 0.89, 0.49, 0.24, 0.  , 0.  , 0.  , 0.  , 0.  , 0.  , 0.  , 0.  , 0.  , 0.  , 0.  , 0.  , 0.  , 0.  , 0.  , 0.38,\n",
              "        0.65, 0.61, 0.62, 0.67, 0.7 , 0.83, 0.84, 0.82, 0.77, 0.74, 0.62, 0.64, 0.62, 0.42, 0.  , 0.  , 0.  , 0.  , 0.  , 0.  , 0.  , 0.  , 0.  ,\n",
              "        0.  , 0.  , 0.  , 0.33, 0.62, 0.51, 0.46, 0.47, 0.58, 0.58, 0.57, 0.7 , 0.62, 0.68, 0.63, 0.48, 0.52, 0.56, 0.67, 0.15, 0.  , 0.  , 0.  ,\n",
              "        0.  , 0.  , 0.  , 0.  , 0.  , 0.  , 0.  , 0.  , 0.62, 0.5 , 0.46, 0.47, 0.48, 0.44, 0.36, 0.49, 0.63, 0.43, 0.5 , 0.5 , 0.51, 0.57, 0.54,\n",
              "        0.65, 0.48, 0.  , 0.  , 0.  , 0.  , 0.  , 0.  , 0.  , 0.  , 0.  , 0.  , 0.  , 0.67, 0.53, 0.47, 0.45, 0.46, 0.47, 0.42, 0.49, 0.48, 0.46,\n",
              "        0.49, 0.49, 0.47, 0.57, 0.58, 0.65, 0.58, 0.  , 0.  , 0.  , 0.  , 0.  , 0.  , 0.  , 0.  , 0.  , 0.  , 0.02, 0.67, 0.54, 0.49, 0.47, 0.46,\n",
              "        0.46, 0.4 , 0.48, 0.57, 0.44, 0.47, 0.48, 0.47, 0.6 , 0.6 , 0.61, 0.67, 0.  , 0.  , 0.  , 0.  , 0.  , 0.  , 0.  , 0.  , 0.  , 0.  , 0.12,\n",
              "        0.67, 0.51, 0.54, 0.49, 0.44, 0.42, 0.4 , 0.46, 0.54, 0.42, 0.53, 0.51, 0.62, 0.71, 0.54, 0.56, 0.73, 0.  , 0.  , 0.  , 0.  , 0.  , 0.  ,\n",
              "        0.  , 0.  , 0.  , 0.  , 0.23, 0.64, 0.45, 0.54, 0.56, 0.47, 0.4 , 0.39, 0.43, 0.46, 0.43, 0.51, 0.53, 0.67, 0.71, 0.51, 0.53, 0.75, 0.  ,\n",
              "        0.  , 0.  , 0.  , 0.  , 0.  , 0.  , 0.  , 0.  , 0.  , 0.3 , 0.63, 0.44, 0.55, 0.58, 0.5 , 0.44, 0.4 , 0.45, 0.54, 0.44, 0.51, 0.56, 0.65,\n",
              "        0.72, 0.53, 0.47, 0.73, 0.05, 0.  , 0.  , 0.  , 0.  , 0.  , 0.  , 0.  , 0.  , 0.  , 0.39, 0.58, 0.42, 0.58, 0.58, 0.53, 0.47, 0.41, 0.45,\n",
              "        0.51, 0.45, 0.53, 0.54, 0.65, 0.75, 0.54, 0.44, 0.73, 0.12, 0.  , 0.  , 0.  , 0.  , 0.  , 0.  , 0.  , 0.  , 0.  , 0.45, 0.56, 0.42, 0.62,\n",
              "        0.58, 0.51, 0.49, 0.42, 0.45, 0.48, 0.47, 0.51, 0.53, 0.63, 0.77, 0.53, 0.43, 0.71, 0.2 , 0.  , 0.  , 0.  , 0.  , 0.  , 0.  , 0.  , 0.  ,\n",
              "        0.  , 0.47, 0.55, 0.46, 0.59, 0.58, 0.51, 0.49, 0.43, 0.47, 0.56, 0.47, 0.51, 0.5 , 0.62, 0.74, 0.44, 0.42, 0.7 , 0.26, 0.  , 0.  , 0.  ,\n",
              "        0.  , 0.  , 0.  , 0.  , 0.  , 0.  , 0.49, 0.51, 0.5 , 0.44, 0.57, 0.55, 0.48, 0.44, 0.46, 0.53, 0.46, 0.52, 0.5 , 0.65, 0.62, 0.36, 0.47,\n",
              "        0.67, 0.29, 0.  , 0.  , 0.  , 0.  , 0.  , 0.  , 0.  , 0.  , 0.  , 0.49, 0.48, 0.54, 0.29, 0.55, 0.56, 0.49, 0.44, 0.44, 0.49, 0.47, 0.51,\n",
              "        0.51, 0.69, 0.47, 0.35, 0.5 , 0.64, 0.36, 0.  , 0.  , 0.  , 0.  , 0.  , 0.  , 0.  , 0.  , 0.  , 0.49, 0.48, 0.62, 0.18, 0.57, 0.56, 0.49,\n",
              "        0.44, 0.47, 0.58, 0.48, 0.51, 0.51, 0.72, 0.35, 0.29, 0.54, 0.61, 0.39, 0.  , 0.  , 0.  , 0.  , 0.  , 0.  , 0.  , 0.  , 0.  , 0.46, 0.48,\n",
              "        0.65, 0.  , 0.56, 0.58, 0.48, 0.44, 0.46, 0.54, 0.45, 0.52, 0.49, 0.72, 0.29, 0.2 , 0.6 , 0.58, 0.4 , 0.  , 0.  , 0.  , 0.  , 0.  , 0.  ,\n",
              "        0.  , 0.  , 0.  , 0.44, 0.5 , 0.64, 0.  , 0.56, 0.59, 0.48, 0.44, 0.46, 0.52, 0.47, 0.53, 0.49, 0.71, 0.35, 0.07, 0.64, 0.57, 0.42, 0.  ,\n",
              "        0.  , 0.  , 0.  , 0.  , 0.  , 0.  , 0.  , 0.  , 0.43, 0.52, 0.62, 0.  , 0.57, 0.58, 0.47, 0.42, 0.49, 0.62, 0.47, 0.53, 0.51, 0.69, 0.44,\n",
              "        0.  , 0.64, 0.56, 0.46, 0.  , 0.  , 0.  , 0.  , 0.  , 0.  , 0.  , 0.  , 0.  , 0.44, 0.55, 0.55, 0.  , 0.58, 0.58, 0.47, 0.45, 0.48, 0.54,\n",
              "        0.49, 0.54, 0.51, 0.67, 0.53, 0.  , 0.62, 0.58, 0.49, 0.  , 0.  , 0.  , 0.  , 0.  , 0.  , 0.  , 0.  , 0.  , 0.44, 0.6 , 0.44, 0.  , 0.61,\n",
              "        0.58, 0.46, 0.45, 0.49, 0.56, 0.48, 0.51, 0.51, 0.65, 0.61, 0.  , 0.51, 0.62, 0.51, 0.  , 0.  , 0.  , 0.  , 0.  , 0.  , 0.  , 0.  , 0.  ,\n",
              "        0.43, 0.61, 0.34, 0.  , 0.62, 0.57, 0.47, 0.46, 0.49, 0.6 , 0.49, 0.51, 0.48, 0.63, 0.63, 0.  , 0.38, 0.64, 0.51, 0.  , 0.  , 0.  , 0.  ,\n",
              "        0.  , 0.  , 0.  , 0.  , 0.  , 0.49, 0.56, 0.21, 0.  , 0.58, 0.55, 0.47, 0.47, 0.49, 0.53, 0.51, 0.49, 0.47, 0.6 , 0.69, 0.  , 0.3 , 0.57,\n",
              "        0.54, 0.  , 0.  , 0.  , 0.  , 0.  , 0.  , 0.  , 0.  , 0.  , 0.53, 0.59, 0.18, 0.  , 0.58, 0.54, 0.47, 0.46, 0.49, 0.56, 0.52, 0.51, 0.48,\n",
              "        0.6 , 0.67, 0.  , 0.26, 0.58, 0.6 , 0.  , 0.  , 0.  , 0.  , 0.  , 0.  , 0.  , 0.  , 0.  , 0.43, 0.68, 0.19, 0.  , 0.6 , 0.54, 0.47, 0.46,\n",
              "        0.49, 0.54, 0.51, 0.51, 0.49, 0.62, 0.65, 0.  , 0.23, 0.68, 0.5 , 0.  , 0.  , 0.  , 0.  , 0.  , 0.  , 0.  , 0.  , 0.  , 0.  , 0.  , 0.  ,\n",
              "        0.  , 0.33, 0.71, 0.58, 0.53, 0.56, 0.62, 0.57, 0.58, 0.6 , 0.78, 0.27, 0.  , 0.  , 0.  , 0.  , 0.  , 0.  , 0.  , 0.  , 0.  , 0.  , 0.  ,\n",
              "        0.  , 0.  , 0.  , 0.  , 0.  , 0.  , 0.  , 0.1 , 0.21, 0.28, 0.33, 0.38, 0.33, 0.31, 0.24, 0.05, 0.  , 0.  , 0.  , 0.  , 0.  , 0.  , 0.  ,\n",
              "        0.  , 0.  ], dtype=float32))"
            ]
          },
          "metadata": {},
          "execution_count": 300
        }
      ]
    },
    {
      "cell_type": "code",
      "source": [
        "test_data = test_data.reshape((10000, 28 * 28))\n",
        "test_data = test_data.astype('float32') / 255"
      ],
      "metadata": {
        "id": "8GCQLkuetSOM"
      },
      "execution_count": 301,
      "outputs": []
    },
    {
      "cell_type": "code",
      "source": [
        "# 6.- PREPARACIÓN LAS ETIQUETAS\n",
        "# from keras import utils\n",
        "# from keras.utils import to_categorical\n",
        "from keras.utils.np_utils import to_categorical\n",
        "\n",
        "train_labels = to_categorical(train_labels)\n",
        "test_labels = to_categorical(test_labels)\n",
        "train_labels[30000] # Posición 0 a 9 donde solo la 3 tiene probabilidad 1.\n",
        "# El número 30000 de entrenamiento es un 3"
      ],
      "metadata": {
        "colab": {
          "base_uri": "https://localhost:8080/"
        },
        "id": "tSTu5GRRthco",
        "outputId": "554fae7d-b39d-4cf0-fe68-4cdcb8bad989"
      },
      "execution_count": 302,
      "outputs": [
        {
          "output_type": "execute_result",
          "data": {
            "text/plain": [
              "array([0., 0., 0., 1., 0., 0., 0., 0., 0., 0.], dtype=float32)"
            ]
          },
          "metadata": {},
          "execution_count": 302
        }
      ]
    },
    {
      "cell_type": "code",
      "source": [
        "x_val = train_data[:10000]\n",
        "partial_x_train = train_data[10000:]\n",
        "\n",
        "y_val = one_hot_train_labels[:10000]\n",
        "partial_y_train = one_hot_train_labels[10000:]"
      ],
      "metadata": {
        "id": "aleixj7_zDp9"
      },
      "execution_count": 303,
      "outputs": []
    },
    {
      "cell_type": "markdown",
      "source": [
        "s"
      ],
      "metadata": {
        "id": "ebTLYPcmzEc-"
      }
    },
    {
      "cell_type": "code",
      "source": [
        "history = model.fit(train_data, train_labels, epochs=5, batch_size=128)\n"
      ],
      "metadata": {
        "colab": {
          "base_uri": "https://localhost:8080/"
        },
        "id": "MepKtlWWQrt1",
        "outputId": "675721ff-8763-40cc-a892-8d74934f9253"
      },
      "execution_count": 304,
      "outputs": [
        {
          "output_type": "stream",
          "name": "stdout",
          "text": [
            "Epoch 1/5\n",
            "469/469 [==============================] - 1s 2ms/step - loss: 1.2921 - accuracy: 0.5444\n",
            "Epoch 2/5\n",
            "469/469 [==============================] - 1s 2ms/step - loss: 0.8156 - accuracy: 0.7271\n",
            "Epoch 3/5\n",
            "469/469 [==============================] - 1s 2ms/step - loss: 0.6959 - accuracy: 0.7704\n",
            "Epoch 4/5\n",
            "469/469 [==============================] - 1s 2ms/step - loss: 0.6325 - accuracy: 0.7909\n",
            "Epoch 5/5\n",
            "469/469 [==============================] - 1s 2ms/step - loss: 0.5922 - accuracy: 0.8031\n"
          ]
        }
      ]
    },
    {
      "cell_type": "code",
      "source": [
        "# 8.- VERIFICAMOS NUESTRO MODELO YA ENTRENADO, CONTRA EL CONJUNTO DE PRUEBAS\n",
        "test_loss, test_acc = model.evaluate(test_data, test_labels)"
      ],
      "metadata": {
        "colab": {
          "base_uri": "https://localhost:8080/"
        },
        "id": "GG8Ujy8suiav",
        "outputId": "117c1145-9b15-42e0-f878-5d3279317505"
      },
      "execution_count": 305,
      "outputs": [
        {
          "output_type": "stream",
          "name": "stdout",
          "text": [
            "313/313 [==============================] - 1s 2ms/step - loss: 0.6014 - accuracy: 0.7967\n"
          ]
        }
      ]
    },
    {
      "cell_type": "code",
      "source": [
        "print('test_loss:', test_loss)\n",
        "print('test_acc:', test_acc)"
      ],
      "metadata": {
        "colab": {
          "base_uri": "https://localhost:8080/"
        },
        "id": "EDZha4kMupfJ",
        "outputId": "b7feeb3c-20e4-4185-8aaa-f83322a4aca4"
      },
      "execution_count": 306,
      "outputs": [
        {
          "output_type": "stream",
          "name": "stdout",
          "text": [
            "test_loss: 0.6013544201850891\n",
            "test_acc: 0.7967000007629395\n"
          ]
        }
      ]
    },
    {
      "cell_type": "code",
      "source": [
        "# Look at confusion matrix \n",
        "# Note, this code is taken straight from the SKLEARN website, an nice way of \n",
        "# viewing confusion matrix.\n",
        "def plot_confusion_matrix(cm, classes,\n",
        "                          normalize=False,\n",
        "                          title='Confusion matrix',\n",
        "                          cmap=plt.cm.Blues):\n",
        "    \"\"\"\n",
        "    This function prints and plots the confusion matrix.\n",
        "    Normalization can be applied by setting `normalize=True`.\n",
        "    \"\"\"\n",
        "    plt.imshow(cm, interpolation='nearest', cmap=cmap)\n",
        "    plt.title(title)\n",
        "    plt.colorbar()\n",
        "    tick_marks = np.arange(len(classes))\n",
        "    plt.xticks(tick_marks, classes, rotation=45)\n",
        "    plt.yticks(tick_marks, classes)\n",
        "\n",
        "    if normalize:\n",
        "        cm = cm.astype('float') / cm.sum(axis=1)[:, np.newaxis]\n",
        "\n",
        "    thresh = cm.max() / 2.\n",
        "    for i, j in itertools.product(range(cm.shape[0]), range(cm.shape[1])):\n",
        "        plt.text(j, i, cm[i, j],\n",
        "                 horizontalalignment=\"center\",\n",
        "                 color=\"white\" if cm[i, j] > thresh else \"black\")\n",
        "\n",
        "    plt.tight_layout()\n",
        "    plt.ylabel('Observación')\n",
        "    plt.xlabel('Predicción')"
      ],
      "metadata": {
        "id": "C2XxqyFSv9jF"
      },
      "execution_count": 307,
      "outputs": []
    },
    {
      "cell_type": "code",
      "source": [
        "from collections import Counter\n",
        "from sklearn.metrics import confusion_matrix\n",
        "import itertools\n",
        "import numpy as np\n",
        "\n",
        "# Predicción de valores desde el dataset de validación\n",
        "Y_pred = model.predict(test_data)\n",
        "print(\"=VALORES QUE PREDICE EL MODELO ENTRENADO CON LAS IMAGENES DE TEST======\")\n",
        "print(\"=RECORDAR QUE LA PRIMERA IMAGEN DE TEST ERA UN 7=======================\")\n",
        "print(Y_pred[0])\n",
        "print(\"=======================================================================\")\n",
        "# Convertir en predicciones de clases desde los vectores one-hot encoding \n",
        "Y_pred_classes = np.argmax(Y_pred, axis = 1) \n",
        "print(\"=CONVERSION DE PREDICCIONES EN CLASES DESDE VECTORES ONE-HOT ENCODING==\")\n",
        "print(Y_pred_classes)\n",
        "print(\"=======================================================================\")\n",
        "# Convertir en clases de observación desde los vectores one-hot encoding\n",
        "Y_true = np.argmax(test_labels, axis = 1) \n",
        "print(\"=CONVERSION DE VALORES REALES EN CLASES DESDE VECTORES ONE-HOT ENCODING\")\n",
        "print(Y_true)\n",
        "print(\"=======================================================================\")\n",
        "# Computar la matriz de confusión\n",
        "confusion_mtx = confusion_matrix(Y_true, Y_pred_classes) \n",
        "print(\"=MATRIZ DE CONFUSION CON VALORES REALES FRENTE A LOS PREDICHOS=========\")\n",
        "print(confusion_mtx)\n",
        "print(\"=======================================================================\")\n",
        "# Dibujar la matriz de confusión\n",
        "print(\"=PINTAMOS LA MATRIZ DE CONFUSION=======================================\")\n",
        "plot_confusion_matrix(confusion_mtx, classes = range(10))"
      ],
      "metadata": {
        "colab": {
          "base_uri": "https://localhost:8080/",
          "height": 727
        },
        "id": "AJv9tzI8wLYN",
        "outputId": "8f1c6a95-2c3b-47b1-e232-3202de99fe19"
      },
      "execution_count": 308,
      "outputs": [
        {
          "output_type": "stream",
          "name": "stdout",
          "text": [
            "313/313 [==============================] - 0s 1ms/step\n",
            "=VALORES QUE PREDICE EL MODELO ENTRENADO CON LAS IMAGENES DE TEST======\n",
            "=RECORDAR QUE LA PRIMERA IMAGEN DE TEST ERA UN 7=======================\n",
            "[0.   0.   0.   0.   0.   0.19 0.   0.26 0.01 0.53]\n",
            "=======================================================================\n",
            "=CONVERSION DE PREDICCIONES EN CLASES DESDE VECTORES ONE-HOT ENCODING==\n",
            "[9 2 1 ... 8 1 5]\n",
            "=======================================================================\n",
            "=CONVERSION DE VALORES REALES EN CLASES DESDE VECTORES ONE-HOT ENCODING\n",
            "[9 2 1 ... 8 1 5]\n",
            "=======================================================================\n",
            "=MATRIZ DE CONFUSION CON VALORES REALES FRENTE A LOS PREDICHOS=========\n",
            "[[819   3  10  76   7   1  65   0  19   0]\n",
            " [  3 926  13  40  14   0   3   0   1   0]\n",
            " [ 24   2 648   8 190   0 112   0  15   1]\n",
            " [ 38  19   7 834  43   0  54   0   5   0]\n",
            " [  1   4  94  33 788   0  72   0   8   0]\n",
            " [  0   0   0   3   0 796   0 116  10  75]\n",
            " [219   5 142  43 156   1 392   0  42   0]\n",
            " [  0   0   0   0   0  36   0 908   0  56]\n",
            " [  3   2  12  11   4  10  18  10 929   1]\n",
            " [  1   0   0   0   0  13   0  58   1 927]]\n",
            "=======================================================================\n",
            "=PINTAMOS LA MATRIZ DE CONFUSION=======================================\n"
          ]
        },
        {
          "output_type": "display_data",
          "data": {
            "text/plain": [
              "<Figure size 432x288 with 2 Axes>"
            ],
            "image/png": "[encoded data removed]"
          },
          "metadata": {
            "needs_background": "light"
          }
        }
      ]
    },
    {
      "cell_type": "code",
      "source": [
        "# Veamos el elemento 6 de test y pintémoslo con matplotlib\n",
        "from keras.datasets import fashion_mnist\n",
        "(train_data, train_labels), (test_data, test_labels) = fashion_mnist.load_data()\n",
        "import matplotlib.pyplot as plt\n",
        "digit = test_data[5]\n",
        "plt.imshow(digit, cmap=plt.cm.binary)\n",
        "plt.show()"
      ],
      "metadata": {
        "colab": {
          "base_uri": "https://localhost:8080/",
          "height": 265
        },
        "id": "_BMVaBKfx9qV",
        "outputId": "7b4dd177-3b7a-41cc-b0e5-f42981fcd22e"
      },
      "execution_count": 309,
      "outputs": [
        {
          "output_type": "display_data",
          "data": {
            "text/plain": [
              "<Figure size 432x288 with 1 Axes>"
            ],
            "image/png": "[encoded data removed]"
          },
          "metadata": {
            "needs_background": "light"
          }
        }
      ]
    },
    {
      "cell_type": "code",
      "source": [
        "train_data = train_data.reshape((60000, 28 * 28))\n",
        "test_data = test_data.reshape((10000, 28 * 28))\n",
        "\n",
        "train_data = train_data.astype('float32') / 255\n",
        "test_data = test_data.astype('float32') / 255\n",
        "\n",
        "from keras.utils.np_utils import to_categorical\n",
        "\n",
        "print(\"=VEMOS LAS ETIQUETAS DE TEST ORIGINALES================================\")\n",
        "print(test_labels)\n",
        "print(\"=======================================================================\")\n",
        "test_labels = to_categorical(test_labels)\n",
        "print(\"=VEMOS LAS ETIQUETAS DE TEST AL PASARLAS POR to_categorical============\")\n",
        "print(test_labels)\n",
        "print(\"=======================================================================\")\n",
        "\n",
        "# Hacemos las predicciones con las imágenes de Test\n",
        "predictions = model.predict(test_data)\n",
        "\n",
        "print(\"=VEMOS LA PREDICCIÓN DEL ELEMENTO 6 (QUE DEBERÍA SER UN 1)============\")\n",
        "print(predictions[5])\n",
        "print(\"=======================================================================\")\n",
        "print(\"=VEMOS LA PREDICCIÓN DEL ELEMENTO 6 (QUE DEBERÍA SER UN 1)============\")\n",
        "print(np.argmax(predictions[5]))\n",
        "print(\"=======================================================================\")\n",
        "print(\"=LA SUMA DE TODAS LAS PREDICCIONES PARA EL ELEMENTO 6 DEBERÍA SER 1===\")\n",
        "print(np.sum(predictions[5]))\n",
        "print(\"=======================================================================\")\n",
        "print(\"=PINTAMOS TODAS LAS PREDICCIONES=======================================\")\n",
        "print(predictions)"
      ],
      "metadata": {
        "colab": {
          "base_uri": "https://localhost:8080/"
        },
        "id": "2Sg__sHXyD_r",
        "outputId": "fba3fcb5-003b-48c8-fdbb-8fcbb76e9c71"
      },
      "execution_count": 310,
      "outputs": [
        {
          "output_type": "stream",
          "name": "stdout",
          "text": [
            "=VEMOS LAS ETIQUETAS DE TEST ORIGINALES================================\n",
            "[9 2 1 ... 8 1 5]\n",
            "=======================================================================\n",
            "=VEMOS LAS ETIQUETAS DE TEST AL PASARLAS POR to_categorical============\n",
            "[[0. 0. 0. ... 0. 0. 1.]\n",
            " [0. 0. 1. ... 0. 0. 0.]\n",
            " [0. 1. 0. ... 0. 0. 0.]\n",
            " ...\n",
            " [0. 0. 0. ... 0. 1. 0.]\n",
            " [0. 1. 0. ... 0. 0. 0.]\n",
            " [0. 0. 0. ... 0. 0. 0.]]\n",
            "=======================================================================\n",
            "313/313 [==============================] - 1s 2ms/step\n",
            "=VEMOS LA PREDICCIÓN DEL ELEMENTO 6 (QUE DEBERÍA SER UN 1)============\n",
            "[0.   0.95 0.   0.01 0.04 0.   0.   0.   0.   0.  ]\n",
            "=======================================================================\n",
            "=VEMOS LA PREDICCIÓN DEL ELEMENTO 6 (QUE DEBERÍA SER UN 1)============\n",
            "1\n",
            "=======================================================================\n",
            "=LA SUMA DE TODAS LAS PREDICCIONES PARA EL ELEMENTO 6 DEBERÍA SER 1===\n",
            "1.0\n",
            "=======================================================================\n",
            "=PINTAMOS TODAS LAS PREDICCIONES=======================================\n",
            "[[0.   0.   0.   ... 0.26 0.01 0.53]\n",
            " [0.   0.   0.91 ... 0.   0.   0.  ]\n",
            " [0.   1.   0.   ... 0.   0.   0.  ]\n",
            " ...\n",
            " [0.14 0.   0.01 ... 0.   0.62 0.  ]\n",
            " [0.   0.96 0.   ... 0.   0.   0.  ]\n",
            " [0.   0.   0.   ... 0.38 0.1  0.13]]\n"
          ]
        }
      ]
    },
    {
      "cell_type": "markdown",
      "source": [
        "Distribución de Probalidades"
      ],
      "metadata": {
        "id": "7GmDXZbmzNSn"
      }
    },
    {
      "cell_type": "code",
      "source": [
        "def plot_image(i, predictions_array, true_label, img):\n",
        "  predictions_array, true_label, img = predictions_array, true_label[i], img[i]\n",
        "  plt.grid(False)\n",
        "  plt.xticks([])\n",
        "  plt.yticks([])\n",
        "\n",
        "  plt.imshow(img, cmap=plt.cm.binary)    \n",
        "\n",
        "  predicted_label = np.argmax(predictions_array)\n",
        "  if predicted_label.all() == true_label.all():\n",
        "    color = 'blue'\n",
        "  else:\n",
        "    color = 'red'\n",
        "\n",
        "  plt.xlabel(\"{} {:2.0f}% ({})\".format(predicted_label,\n",
        "                                100*np.max(predictions_array),\n",
        "                                true_label),\n",
        "                                color=color)\n",
        "\n",
        "def plot_value_array(i, predictions_array, true_label):\n",
        "  predictions_array, true_label = predictions_array, true_label[i]\n",
        "  plt.grid(False)\n",
        "  plt.xticks(range(10))\n",
        "  plt.yticks([])\n",
        "  thisplot = plt.bar(range(10), predictions_array, color=\"#00FF00\")\n",
        "  plt.ylim([0, 1])\n",
        "  predicted_label = np.argmax(predictions_array)\n",
        "\n",
        "  thisplot[predicted_label].set_color('red')\n",
        "  thisplot[true_label].set_color('black')"
      ],
      "metadata": {
        "id": "ZqvaMibwzObp"
      },
      "execution_count": 311,
      "outputs": []
    },
    {
      "cell_type": "code",
      "source": [
        "from keras.datasets import fashion_mnist\n",
        "import numpy as np\n",
        "import matplotlib.pyplot as plt\n",
        "\n",
        "(train_data, train_labels), (test_data, test_labels) = fashion_mnist.load_data()\n",
        "train_data = train_data.reshape((60000, 28 * 28))\n",
        "test_data = test_data.reshape((10000, 28 * 28))\n",
        "\n",
        "train_data = train_data.astype('float32') / 255\n",
        "test_data = test_data.astype('float32') / 255\n",
        "\n",
        "predictions = model.predict(test_data)\n",
        "\n",
        "for i in range(5):\n",
        "  plt.figure(figsize=(6,3))\n",
        "  plt.subplot(1,2,1)\n",
        "  plot_image(i, predictions[i], test_labels, test_data.reshape(10000,28,28))\n",
        "  plt.subplot(1,2,2)\n",
        "  plot_value_array(i, predictions[i],  test_labels)\n",
        "  plt.show()\n",
        "  plt.clf()"
      ],
      "metadata": {
        "colab": {
          "base_uri": "https://localhost:8080/",
          "height": 1000
        },
        "id": "Dhnn9k0D3G-J",
        "outputId": "e0a601ad-409d-459c-bbf8-efc49fcfc557"
      },
      "execution_count": 323,
      "outputs": [
        {
          "output_type": "stream",
          "name": "stdout",
          "text": [
            "313/313 [==============================] - 0s 1ms/step\n"
          ]
        },
        {
          "output_type": "display_data",
          "data": {
            "text/plain": [
              "<Figure size 432x216 with 2 Axes>"
            ],
            "image/png": "[encoded data removed]"
          },
          "metadata": {
            "needs_background": "light"
          }
        },
        {
          "output_type": "display_data",
          "data": {
            "text/plain": [
              "<Figure size 432x288 with 0 Axes>"
            ]
          },
          "metadata": {}
        },
        {
          "output_type": "display_data",
          "data": {
            "text/plain": [
              "<Figure size 432x216 with 2 Axes>"
            ],
            "image/png": "[encoded data removed]"
          },
          "metadata": {
            "needs_background": "light"
          }
        },
        {
          "output_type": "display_data",
          "data": {
            "text/plain": [
              "<Figure size 432x288 with 0 Axes>"
            ]
          },
          "metadata": {}
        },
        {
          "output_type": "display_data",
          "data": {
            "text/plain": [
              "<Figure size 432x216 with 2 Axes>"
            ],
            "image/png": "[encoded data removed]"
          },
          "metadata": {
            "needs_background": "light"
          }
        },
        {
          "output_type": "display_data",
          "data": {
            "text/plain": [
              "<Figure size 432x288 with 0 Axes>"
            ]
          },
          "metadata": {}
        },
        {
          "output_type": "display_data",
          "data": {
            "text/plain": [
              "<Figure size 432x216 with 2 Axes>"
            ],
            "image/png": "[encoded data removed]"
          },
          "metadata": {
            "needs_background": "light"
          }
        },
        {
          "output_type": "display_data",
          "data": {
            "text/plain": [
              "<Figure size 432x288 with 0 Axes>"
            ]
          },
          "metadata": {}
        },
        {
          "output_type": "display_data",
          "data": {
            "text/plain": [
              "<Figure size 432x216 with 2 Axes>"
            ],
            "image/png": "[encoded data removed]"
          },
          "metadata": {
            "needs_background": "light"
          }
        },
        {
          "output_type": "display_data",
          "data": {
            "text/plain": [
              "<Figure size 432x288 with 0 Axes>"
            ]
          },
          "metadata": {}
        }
      ]
    }
  ]
}