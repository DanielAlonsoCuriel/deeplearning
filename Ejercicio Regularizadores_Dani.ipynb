{
  "nbformat": 4,
  "nbformat_minor": 0,
  "metadata": {
    "kernelspec": {
      "display_name": "Python 3",
      "language": "python",
      "name": "python3"
    },
    "language_info": {
      "codemirror_mode": {
        "name": "ipython",
        "version": 3
      },
      "file_extension": ".py",
      "mimetype": "text/x-python",
      "name": "python",
      "nbconvert_exporter": "python",
      "pygments_lexer": "ipython3",
      "version": "3.8.5"
    },
    "colab": {
      "name": "2_1_Un_primer_vistazo_a_una_Red_Neuronal.ipynb",
      "provenance": [],
      "include_colab_link": true
    },
    "accelerator": "GPU",
    "gpuClass": "standard"
  },
  "cells": [
    {
      "cell_type": "markdown",
      "metadata": {
        "id": "view-in-github",
        "colab_type": "text"
      },
      "source": [
        "<a href=\"https://colab.research.google.com/github/DanielAlonsoCuriel/deeplearning/blob/main/Ejercicio%20Regularizadores_Dani.ipynb\" target=\"_parent\"><img src=\"https://colab.research.google.com/assets/colab-badge.svg\" alt=\"Open In Colab\"/></a>"
      ]
    },
    {
      "cell_type": "markdown",
      "metadata": {
        "id": "Ejg7Msp7rbkk"
      },
      "source": [
        "# Ejercicio con regularizadores"
      ]
    },
    {
      "cell_type": "code",
      "source": [
        "%tensorflow_version 2.x\n",
        "import tensorflow as tf\n",
        "from tensorflow import keras\n",
        "print(tf.keras.__version__)\n",
        "print(\"GPU Available:\", tf.config.list_physical_devices('GPU'))\n",
        "print(tf.__version__)\n",
        "from keras.datasets import mnist\n",
        "from keras import models\n",
        "from keras import layers\n",
        "import numpy as np\n",
        "import matplotlib.pyplot as plt\n",
        "from keras import regularizers"
      ],
      "metadata": {
        "id": "BSivef1i532C",
        "outputId": "53a0ec8f-6d5a-4e8c-8207-e12ab4b1e79e",
        "colab": {
          "base_uri": "https://localhost:8080/"
        }
      },
      "execution_count": 1,
      "outputs": [
        {
          "output_type": "stream",
          "name": "stdout",
          "text": [
            "Colab only includes TensorFlow 2.x; %tensorflow_version has no effect.\n",
            "2.9.0\n",
            "GPU Available: [PhysicalDevice(name='/physical_device:GPU:0', device_type='GPU')]\n",
            "2.9.2\n"
          ]
        }
      ]
    },
    {
      "cell_type": "code",
      "source": [
        "(train_images, train_labels), (test_images, test_labels) = mnist.load_data() # Descarga los datos de MNIST"
      ],
      "metadata": {
        "id": "3t3R6gU9-wUy",
        "colab": {
          "base_uri": "https://localhost:8080/"
        },
        "outputId": "5c07d1f4-798b-4e94-b188-9610e6c30664"
      },
      "execution_count": 2,
      "outputs": [
        {
          "output_type": "stream",
          "name": "stdout",
          "text": [
            "Downloading data from https://storage.googleapis.com/tensorflow/tf-keras-datasets/mnist.npz\n",
            "11490434/11490434 [==============================] - 2s 0us/step\n"
          ]
        }
      ]
    },
    {
      "cell_type": "code",
      "source": [
        "# Prepara con reshape y normaliza las imágenes tanto de entrenamiento como de test\n",
        "# Prepara con reshape y normaliza las imágenes tanto de entrenamiento como de test\n",
        "train_images = train_images.reshape((60000, 28 * 28))\n",
        "test_images = test_images.reshape((10000, 28 * 28))\n",
        "\n",
        "train_images = train_images.astype('float32') / 255\n",
        "test_images = test_images.astype('float32') / 255"
      ],
      "metadata": {
        "id": "H6n5NeSz0U1d"
      },
      "execution_count": 3,
      "outputs": []
    },
    {
      "cell_type": "code",
      "source": [
        "# Crear un subconjunto de imágenes de entrenamiento que llamaré\n",
        "# validation_images, para hacer las validaciones, con las 10000 últimas imágenes \n",
        "# del set de datos de entrenamiento (train_images) (lo mismo con las\n",
        "# etiquetas correspondientes -> validation_labels). Deja preparadas las 50K \n",
        "# primeras imágenes y etiquetas para entrenamiento (train_images y train_labels)\n",
        "validation_images=train_images[50000:]\n",
        "train_images=train_images[:49999]\n",
        "validation_labels=train_labels[50000:]\n",
        "train_labels=train_labels[:49999]"
      ],
      "metadata": {
        "id": "NKoZGyap0XAj"
      },
      "execution_count": 4,
      "outputs": []
    },
    {
      "cell_type": "code",
      "source": [
        "def crea_modelo(regularizador):\n",
        "  # Define una función que recibe un número del 0 al 4 que creará:\n",
        "  # un modelo secuencial con una capa de entrada densa de 512 neuronas\n",
        "  # con activación relu y la capa de salida que le corresponda según el problema\n",
        "  # Ahora, en función del número del regularizador:\n",
        "  # Si es 0, no mete ningún regularizador\n",
        "  # Si es 1, mete un regularizador de tipo l1 y valor 0.001\n",
        "  # Si es 2, mete un regularizador de tipo l2 y valor 0.001\n",
        "  # Si es 3, mete un regularizador de tipo l1_l2 y valor 0.001 para ambos\n",
        "  # Si es 4, mete un Dropout del 50% después de la primera capa densa\n",
        "  # Si es distinto que estos valores, escribe el error y retorna\n",
        "  # Al final, esta función pinta el summary del modelo y retorna el modelo creado\n",
        "  model = models.Sequential()\n",
        "  if regularizador==0:\n",
        "      model.add(layers.Dense(512,activation='relu',input_shape=(28*28,)))\n",
        "  elif regularizador==1:\n",
        "      model.add(layers.Dense(512, kernel_regularizer=regularizers.l1(0.001),activation='relu',input_shape=(28*28,)))\n",
        "  elif regularizador==2:\n",
        "      model.add(layers.Dense(512, kernel_regularizer=regularizers.l2(0.001),activation='relu',input_shape=(28*28,)))\n",
        "  elif regularizador==3:\n",
        "      model.add(layers.Dense(512, kernel_regularizer=regularizers.l1_l2(l1=0.001,l2=0.001),activation='relu',input_shape=(28*28,)))\n",
        "  elif regularizador==4:\n",
        "      model.add(layers.Dense(512,activation='relu',input_shape=(28*28,)))\n",
        "      model.add(layers.Dropout(0.5))\n",
        "  else:\n",
        "      print(\"ERROR. El valor debe estar entre 0 y 4.\")\n",
        "  model.add(layers.Dense(512,activation='softmax',input_shape=(28*28,)))\n",
        "  model.summary()\n",
        "  return model"
      ],
      "metadata": {
        "id": "6JnVLVfsAfkh"
      },
      "execution_count": 36,
      "outputs": []
    },
    {
      "cell_type": "code",
      "source": [
        "def compila_modelo(modelo): \n",
        "  # Define una función que recibe un modelo, lo compila con un optimizador\n",
        "  # 'rmsprop', con una función de pérdida 'sparse_categorical_crossentropy' y\n",
        "  # una métrica de precisión. La función retorna el modelo\n",
        "  modelo.compile(optimizer='rmsprop',\n",
        "              loss='sparse_categorical_crossentropy',\n",
        "              metrics=['accuracy'])\n",
        "  return modelo"
      ],
      "metadata": {
        "id": "qKyJ8KOT0aFt"
      },
      "execution_count": 6,
      "outputs": []
    },
    {
      "cell_type": "code",
      "source": [
        "def entrena_modelo(modelo):\n",
        "  history = modelo.fit(train_images,\n",
        "                    train_labels,\n",
        "                    epochs=30,\n",
        "                    batch_size=128,\n",
        "                    validation_data=(validation_images, validation_labels))\n",
        "  return history\n",
        "  # Define una función que entrena el modelo que se le pasa por parámetro,\n",
        "  # con las imágenes y etiquetas de entrenamiento, con 30 iteraciones y 128\n",
        "  # de tamaño de minilote y con el validation_data creado más arriba.\n",
        "  # Esta función devuelve un history"
      ],
      "metadata": {
        "id": "_yQ7SpOt0cBp"
      },
      "execution_count": 7,
      "outputs": []
    },
    {
      "cell_type": "code",
      "source": [
        "def pinta_perdida_entrenamiento_validacion(historia):\n",
        "  history_dict = historia.history\n",
        "  acc = historia.history['accuracy']\n",
        "  val_acc = historia.history['val_accuracy']\n",
        "  loss = historia.history['loss']\n",
        "  val_loss = historia.history['val_loss']\n",
        "  epochs = range(1, len(acc) + 1)\n",
        "  # \"bo\" es para \"punto azun\"\n",
        "  plt.plot(epochs, loss, 'bo', label='Pérdida de Entrenamiento')\n",
        "  # \"b\" es para \"linea continua azul\"\n",
        "  plt.plot(epochs, val_loss, 'b', label='Pérdida de Validación')\n",
        "  plt.title('Pérdida de Entrenamiento y Validación')\n",
        "  plt.xlabel('Epochs')\n",
        "  plt.ylabel('Loss')\n",
        "  plt.legend()\n",
        "  plt.show()"
      ],
      "metadata": {
        "id": "bJrRNc4WwPN2"
      },
      "execution_count": 8,
      "outputs": []
    },
    {
      "cell_type": "code",
      "source": [
        "def pinta_precision_entrenamiento_validacion(historia):\n",
        "  history_dict = historia.history\n",
        "  acc = historia.history['accuracy']\n",
        "  val_acc = historia.history['val_accuracy']\n",
        "  loss = historia.history['loss']\n",
        "  val_loss = historia.history['val_loss']\n",
        "  plt.clf()   # Limpia la figura\n",
        "  acc_values = history_dict['accuracy']\n",
        "  val_acc_values = history_dict['val_accuracy']\n",
        "  epochs = range(1, len(acc) + 1)\n",
        "  plt.plot(epochs, acc, 'bo', label='Precisión de Entrenamiento')\n",
        "  plt.plot(epochs, val_acc, 'b', label='Precisión de Validación')\n",
        "  plt.title('Precisión de Entrenamiento y Valización')\n",
        "  plt.xlabel('Epochs')\n",
        "  plt.ylabel('Loss')\n",
        "  plt.legend()\n",
        "  plt.show()"
      ],
      "metadata": {
        "id": "Mafxp6D3wYQx"
      },
      "execution_count": 9,
      "outputs": []
    },
    {
      "cell_type": "markdown",
      "source": [
        "## Una vez definidas todas las funciones anteriores, ejecuta las siguientes llamadas a dichas funciones y deduce que está pasando y, para este contexto, que es lo que mejor está funcionando"
      ],
      "metadata": {
        "id": "6nnQYysYA3_T"
      }
    },
    {
      "cell_type": "markdown",
      "source": [
        "### Caso 0, sin regularizadores"
      ],
      "metadata": {
        "id": "OrGwDgaFBax4"
      }
    },
    {
      "cell_type": "code",
      "source": [
        "network0 = crea_modelo(0)"
      ],
      "metadata": {
        "id": "uXvhlXg79Zi9",
        "outputId": "698ae71a-40aa-4ec9-d159-dd5489ba6a51",
        "colab": {
          "base_uri": "https://localhost:8080/"
        }
      },
      "execution_count": null,
      "outputs": [
        {
          "output_type": "stream",
          "name": "stdout",
          "text": [
            "Model: \"sequential_10\"\n",
            "_________________________________________________________________\n",
            " Layer (type)                Output Shape              Param #   \n",
            "=================================================================\n",
            " dense_19 (Dense)            (None, 512)               401920    \n",
            "                                                                 \n",
            " dense_20 (Dense)            (None, 10)                5130      \n",
            "                                                                 \n",
            "=================================================================\n",
            "Total params: 407,050\n",
            "Trainable params: 407,050\n",
            "Non-trainable params: 0\n",
            "_________________________________________________________________\n"
          ]
        }
      ]
    },
    {
      "cell_type": "code",
      "source": [
        "network0 = compila_modelo(network0)"
      ],
      "metadata": {
        "id": "Ff0HC3NR9ez8"
      },
      "execution_count": null,
      "outputs": []
    },
    {
      "cell_type": "code",
      "source": [
        "historia0 = entrena_modelo(network0)"
      ],
      "metadata": {
        "id": "x9zQDOlw9g6V",
        "outputId": "963f7325-1b0b-42b2-eabe-13f45b921157",
        "colab": {
          "base_uri": "https://localhost:8080/"
        }
      },
      "execution_count": null,
      "outputs": [
        {
          "output_type": "stream",
          "name": "stdout",
          "text": [
            "Epoch 1/30\n",
            "391/391 [==============================] - 2s 4ms/step - loss: 0.2797 - accuracy: 0.9185 - val_loss: 0.1375 - val_accuracy: 0.9600\n",
            "Epoch 2/30\n",
            "391/391 [==============================] - 1s 4ms/step - loss: 0.1168 - accuracy: 0.9651 - val_loss: 0.1005 - val_accuracy: 0.9696\n",
            "Epoch 3/30\n",
            "391/391 [==============================] - 1s 4ms/step - loss: 0.0759 - accuracy: 0.9772 - val_loss: 0.0864 - val_accuracy: 0.9739\n",
            "Epoch 4/30\n",
            "391/391 [==============================] - 1s 3ms/step - loss: 0.0545 - accuracy: 0.9836 - val_loss: 0.0763 - val_accuracy: 0.9768\n",
            "Epoch 5/30\n",
            "391/391 [==============================] - 1s 3ms/step - loss: 0.0408 - accuracy: 0.9878 - val_loss: 0.0839 - val_accuracy: 0.9746\n",
            "Epoch 6/30\n",
            "391/391 [==============================] - 1s 4ms/step - loss: 0.0305 - accuracy: 0.9909 - val_loss: 0.0720 - val_accuracy: 0.9793\n",
            "Epoch 7/30\n",
            "391/391 [==============================] - 2s 4ms/step - loss: 0.0233 - accuracy: 0.9933 - val_loss: 0.0719 - val_accuracy: 0.9801\n",
            "Epoch 8/30\n",
            "391/391 [==============================] - 2s 4ms/step - loss: 0.0177 - accuracy: 0.9952 - val_loss: 0.0749 - val_accuracy: 0.9793\n",
            "Epoch 9/30\n",
            "391/391 [==============================] - 1s 3ms/step - loss: 0.0133 - accuracy: 0.9964 - val_loss: 0.0751 - val_accuracy: 0.9807\n",
            "Epoch 10/30\n",
            "391/391 [==============================] - 2s 4ms/step - loss: 0.0099 - accuracy: 0.9974 - val_loss: 0.0745 - val_accuracy: 0.9812\n",
            "Epoch 11/30\n",
            "391/391 [==============================] - 2s 4ms/step - loss: 0.0077 - accuracy: 0.9978 - val_loss: 0.0870 - val_accuracy: 0.9786\n",
            "Epoch 12/30\n",
            "391/391 [==============================] - 1s 3ms/step - loss: 0.0062 - accuracy: 0.9982 - val_loss: 0.0854 - val_accuracy: 0.9814\n",
            "Epoch 13/30\n",
            "391/391 [==============================] - 1s 3ms/step - loss: 0.0047 - accuracy: 0.9987 - val_loss: 0.0904 - val_accuracy: 0.9801\n",
            "Epoch 14/30\n",
            "391/391 [==============================] - 1s 3ms/step - loss: 0.0033 - accuracy: 0.9991 - val_loss: 0.0988 - val_accuracy: 0.9800\n",
            "Epoch 15/30\n",
            "391/391 [==============================] - 1s 3ms/step - loss: 0.0026 - accuracy: 0.9993 - val_loss: 0.0980 - val_accuracy: 0.9802\n",
            "Epoch 16/30\n",
            "391/391 [==============================] - 1s 4ms/step - loss: 0.0022 - accuracy: 0.9993 - val_loss: 0.0957 - val_accuracy: 0.9811\n",
            "Epoch 17/30\n",
            "391/391 [==============================] - 2s 4ms/step - loss: 0.0016 - accuracy: 0.9997 - val_loss: 0.1036 - val_accuracy: 0.9822\n",
            "Epoch 18/30\n",
            "391/391 [==============================] - 1s 3ms/step - loss: 0.0012 - accuracy: 0.9996 - val_loss: 0.1079 - val_accuracy: 0.9802\n",
            "Epoch 19/30\n",
            "391/391 [==============================] - 1s 4ms/step - loss: 0.0010 - accuracy: 0.9998 - val_loss: 0.1051 - val_accuracy: 0.9808\n",
            "Epoch 20/30\n",
            "391/391 [==============================] - 1s 3ms/step - loss: 6.3813e-04 - accuracy: 0.9999 - val_loss: 0.1137 - val_accuracy: 0.9804\n",
            "Epoch 21/30\n",
            "391/391 [==============================] - 2s 4ms/step - loss: 6.6119e-04 - accuracy: 0.9998 - val_loss: 0.1213 - val_accuracy: 0.9815\n",
            "Epoch 22/30\n",
            "391/391 [==============================] - 1s 4ms/step - loss: 4.9746e-04 - accuracy: 0.9999 - val_loss: 0.1112 - val_accuracy: 0.9827\n",
            "Epoch 23/30\n",
            "391/391 [==============================] - 1s 4ms/step - loss: 3.6781e-04 - accuracy: 0.9999 - val_loss: 0.1205 - val_accuracy: 0.9826\n",
            "Epoch 24/30\n",
            "391/391 [==============================] - 2s 4ms/step - loss: 2.9930e-04 - accuracy: 0.9999 - val_loss: 0.1249 - val_accuracy: 0.9829\n",
            "Epoch 25/30\n",
            "391/391 [==============================] - 1s 4ms/step - loss: 2.5387e-04 - accuracy: 1.0000 - val_loss: 0.1156 - val_accuracy: 0.9826\n",
            "Epoch 26/30\n",
            "391/391 [==============================] - 2s 4ms/step - loss: 3.2717e-04 - accuracy: 0.9999 - val_loss: 0.1235 - val_accuracy: 0.9828\n",
            "Epoch 27/30\n",
            "391/391 [==============================] - 2s 4ms/step - loss: 1.7544e-04 - accuracy: 0.9999 - val_loss: 0.1293 - val_accuracy: 0.9836\n",
            "Epoch 28/30\n",
            "391/391 [==============================] - 2s 4ms/step - loss: 1.6894e-04 - accuracy: 0.9999 - val_loss: 0.1316 - val_accuracy: 0.9819\n",
            "Epoch 29/30\n",
            "391/391 [==============================] - 2s 4ms/step - loss: 1.2669e-04 - accuracy: 0.9999 - val_loss: 0.1280 - val_accuracy: 0.9830\n",
            "Epoch 30/30\n",
            "391/391 [==============================] - 1s 3ms/step - loss: 1.3610e-04 - accuracy: 0.9999 - val_loss: 0.1395 - val_accuracy: 0.9829\n"
          ]
        }
      ]
    },
    {
      "cell_type": "code",
      "source": [
        "pinta_perdida_entrenamiento_validacion(historia0)"
      ],
      "metadata": {
        "id": "OvhDZvS8-0mG",
        "outputId": "a256bff3-06bb-4f93-cf36-4f391b0a4171",
        "colab": {
          "base_uri": "https://localhost:8080/",
          "height": 295
        }
      },
      "execution_count": null,
      "outputs": [
        {
          "output_type": "display_data",
          "data": {
            "text/plain": [
              "<Figure size 432x288 with 1 Axes>"
            ],
            "image/png": "[encoded data removed]"
          },
          "metadata": {
            "needs_background": "light"
          }
        }
      ]
    },
    {
      "cell_type": "code",
      "source": [
        "pinta_precision_entrenamiento_validacion(historia0)"
      ],
      "metadata": {
        "id": "UuiL2CCH_fGN",
        "outputId": "b180af37-a96e-4e65-f0d0-475384f86ac1",
        "colab": {
          "base_uri": "https://localhost:8080/",
          "height": 295
        }
      },
      "execution_count": null,
      "outputs": [
        {
          "output_type": "display_data",
          "data": {
            "text/plain": [
              "<Figure size 432x288 with 1 Axes>"
            ],
            "image/png": "[encoded data removed]"
          },
          "metadata": {
            "needs_background": "light"
          }
        }
      ]
    },
    {
      "cell_type": "markdown",
      "source": [
        "### Caso 1: Con regularizador l1"
      ],
      "metadata": {
        "id": "pw6iBGO5Bg8J"
      }
    },
    {
      "cell_type": "code",
      "source": [
        "network1 = crea_modelo(1)"
      ],
      "metadata": {
        "id": "D6JPtw5zCz-1",
        "outputId": "7e06bb24-30dd-42b8-a0f3-39d5d7d4b20e",
        "colab": {
          "base_uri": "https://localhost:8080/"
        }
      },
      "execution_count": 27,
      "outputs": [
        {
          "output_type": "stream",
          "name": "stdout",
          "text": [
            "Model: \"sequential_5\"\n",
            "_________________________________________________________________\n",
            " Layer (type)                Output Shape              Param #   \n",
            "=================================================================\n",
            " dense_8 (Dense)             (None, 512)               401920    \n",
            "                                                                 \n",
            " dense_9 (Dense)             (None, 512)               262656    \n",
            "                                                                 \n",
            "=================================================================\n",
            "Total params: 664,576\n",
            "Trainable params: 664,576\n",
            "Non-trainable params: 0\n",
            "_________________________________________________________________\n"
          ]
        }
      ]
    },
    {
      "cell_type": "code",
      "source": [
        "network1 = compila_modelo(network1)"
      ],
      "metadata": {
        "id": "zL3Gp7wvFRq3"
      },
      "execution_count": 28,
      "outputs": []
    },
    {
      "cell_type": "code",
      "source": [
        "historia1 = entrena_modelo(network1)"
      ],
      "metadata": {
        "id": "G2FG1Z4xFW72",
        "outputId": "8272338c-3e87-4698-da27-952c0e35f385",
        "colab": {
          "base_uri": "https://localhost:8080/"
        }
      },
      "execution_count": 29,
      "outputs": [
        {
          "output_type": "stream",
          "name": "stdout",
          "text": [
            "Epoch 1/30\n",
            "391/391 [==============================] - 2s 4ms/step - loss: 2.2186 - accuracy: 0.8318 - val_loss: 1.1268 - val_accuracy: 0.8387\n",
            "Epoch 2/30\n",
            "391/391 [==============================] - 2s 4ms/step - loss: 0.9796 - accuracy: 0.8748 - val_loss: 0.8628 - val_accuracy: 0.8997\n",
            "Epoch 3/30\n",
            "391/391 [==============================] - 2s 4ms/step - loss: 0.8497 - accuracy: 0.8971 - val_loss: 0.7831 - val_accuracy: 0.9155\n",
            "Epoch 4/30\n",
            "391/391 [==============================] - 2s 4ms/step - loss: 0.7706 - accuracy: 0.9113 - val_loss: 0.7343 - val_accuracy: 0.9254\n",
            "Epoch 5/30\n",
            "391/391 [==============================] - 2s 4ms/step - loss: 0.7179 - accuracy: 0.9199 - val_loss: 0.7238 - val_accuracy: 0.9227\n",
            "Epoch 6/30\n",
            "391/391 [==============================] - 2s 4ms/step - loss: 0.6803 - accuracy: 0.9251 - val_loss: 0.6385 - val_accuracy: 0.9388\n",
            "Epoch 7/30\n",
            "391/391 [==============================] - 2s 5ms/step - loss: 0.6511 - accuracy: 0.9317 - val_loss: 0.6399 - val_accuracy: 0.9372\n",
            "Epoch 8/30\n",
            "391/391 [==============================] - 2s 4ms/step - loss: 0.6301 - accuracy: 0.9353 - val_loss: 0.6066 - val_accuracy: 0.9433\n",
            "Epoch 9/30\n",
            "391/391 [==============================] - 2s 4ms/step - loss: 0.6124 - accuracy: 0.9378 - val_loss: 0.5919 - val_accuracy: 0.9466\n",
            "Epoch 10/30\n",
            "391/391 [==============================] - 2s 4ms/step - loss: 0.5967 - accuracy: 0.9414 - val_loss: 0.6179 - val_accuracy: 0.9324\n",
            "Epoch 11/30\n",
            "391/391 [==============================] - 2s 4ms/step - loss: 0.5852 - accuracy: 0.9427 - val_loss: 0.5782 - val_accuracy: 0.9442\n",
            "Epoch 12/30\n",
            "391/391 [==============================] - 2s 4ms/step - loss: 0.5729 - accuracy: 0.9450 - val_loss: 0.5853 - val_accuracy: 0.9458\n",
            "Epoch 13/30\n",
            "391/391 [==============================] - 2s 4ms/step - loss: 0.5646 - accuracy: 0.9463 - val_loss: 0.5910 - val_accuracy: 0.9419\n",
            "Epoch 14/30\n",
            "391/391 [==============================] - 2s 4ms/step - loss: 0.5556 - accuracy: 0.9477 - val_loss: 0.5402 - val_accuracy: 0.9496\n",
            "Epoch 15/30\n",
            "391/391 [==============================] - 2s 4ms/step - loss: 0.5488 - accuracy: 0.9480 - val_loss: 0.5243 - val_accuracy: 0.9564\n",
            "Epoch 16/30\n",
            "391/391 [==============================] - 2s 5ms/step - loss: 0.5413 - accuracy: 0.9498 - val_loss: 0.5327 - val_accuracy: 0.9533\n",
            "Epoch 17/30\n",
            "391/391 [==============================] - 2s 5ms/step - loss: 0.5341 - accuracy: 0.9504 - val_loss: 0.5582 - val_accuracy: 0.9469\n",
            "Epoch 18/30\n",
            "391/391 [==============================] - 1s 4ms/step - loss: 0.5287 - accuracy: 0.9517 - val_loss: 0.5394 - val_accuracy: 0.9504\n",
            "Epoch 19/30\n",
            "391/391 [==============================] - 2s 4ms/step - loss: 0.5240 - accuracy: 0.9520 - val_loss: 0.5153 - val_accuracy: 0.9566\n",
            "Epoch 20/30\n",
            "391/391 [==============================] - 2s 4ms/step - loss: 0.5182 - accuracy: 0.9524 - val_loss: 0.5198 - val_accuracy: 0.9541\n",
            "Epoch 21/30\n",
            "391/391 [==============================] - 2s 4ms/step - loss: 0.5129 - accuracy: 0.9538 - val_loss: 0.5649 - val_accuracy: 0.9343\n",
            "Epoch 22/30\n",
            "391/391 [==============================] - 2s 4ms/step - loss: 0.5102 - accuracy: 0.9538 - val_loss: 0.5131 - val_accuracy: 0.9516\n",
            "Epoch 23/30\n",
            "391/391 [==============================] - 2s 4ms/step - loss: 0.5066 - accuracy: 0.9547 - val_loss: 0.5000 - val_accuracy: 0.9545\n",
            "Epoch 24/30\n",
            "391/391 [==============================] - 2s 4ms/step - loss: 0.5029 - accuracy: 0.9552 - val_loss: 0.5082 - val_accuracy: 0.9551\n",
            "Epoch 25/30\n",
            "391/391 [==============================] - 2s 4ms/step - loss: 0.4992 - accuracy: 0.9558 - val_loss: 0.5053 - val_accuracy: 0.9556\n",
            "Epoch 26/30\n",
            "391/391 [==============================] - 2s 4ms/step - loss: 0.4971 - accuracy: 0.9556 - val_loss: 0.4997 - val_accuracy: 0.9596\n",
            "Epoch 27/30\n",
            "391/391 [==============================] - 2s 4ms/step - loss: 0.4939 - accuracy: 0.9561 - val_loss: 0.4761 - val_accuracy: 0.9638\n",
            "Epoch 28/30\n",
            "391/391 [==============================] - 2s 4ms/step - loss: 0.4922 - accuracy: 0.9564 - val_loss: 0.4817 - val_accuracy: 0.9617\n",
            "Epoch 29/30\n",
            "391/391 [==============================] - 2s 4ms/step - loss: 0.4892 - accuracy: 0.9571 - val_loss: 0.4787 - val_accuracy: 0.9606\n",
            "Epoch 30/30\n",
            "391/391 [==============================] - 2s 4ms/step - loss: 0.4884 - accuracy: 0.9577 - val_loss: 0.4941 - val_accuracy: 0.9598\n"
          ]
        }
      ]
    },
    {
      "cell_type": "code",
      "source": [
        "pinta_perdida_entrenamiento_validacion(historia1)"
      ],
      "metadata": {
        "id": "Vyv3yFtiFitw",
        "outputId": "ff7cd545-7422-42ca-8f25-521e3d95e6e4",
        "colab": {
          "base_uri": "https://localhost:8080/",
          "height": 295
        }
      },
      "execution_count": null,
      "outputs": [
        {
          "output_type": "display_data",
          "data": {
            "text/plain": [
              "<Figure size 432x288 with 1 Axes>"
            ],
            "image/png": "[encoded data removed]"
          },
          "metadata": {
            "needs_background": "light"
          }
        }
      ]
    },
    {
      "cell_type": "code",
      "source": [
        "pinta_precision_entrenamiento_validacion(historia1)"
      ],
      "metadata": {
        "id": "pVUerJsqFo7K",
        "outputId": "2b10acdc-2818-45f6-f08e-8398a4eaa0d9",
        "colab": {
          "base_uri": "https://localhost:8080/",
          "height": 295
        }
      },
      "execution_count": null,
      "outputs": [
        {
          "output_type": "display_data",
          "data": {
            "text/plain": [
              "<Figure size 432x288 with 1 Axes>"
            ],
            "image/png": "[encoded data removed]"
          },
          "metadata": {
            "needs_background": "light"
          }
        }
      ]
    },
    {
      "cell_type": "markdown",
      "source": [
        "### Caso 2: Con regularizador l2"
      ],
      "metadata": {
        "id": "hklwKNlMBzya"
      }
    },
    {
      "cell_type": "code",
      "source": [
        "network2 = crea_modelo(2)"
      ],
      "metadata": {
        "id": "tjIs0FziG5Ja",
        "outputId": "77cd4879-f110-4db3-97f9-8b137c314f06",
        "colab": {
          "base_uri": "https://localhost:8080/"
        }
      },
      "execution_count": 22,
      "outputs": [
        {
          "output_type": "stream",
          "name": "stdout",
          "text": [
            "Model: \"sequential_4\"\n",
            "_________________________________________________________________\n",
            " Layer (type)                Output Shape              Param #   \n",
            "=================================================================\n",
            " dense_6 (Dense)             (None, 512)               401920    \n",
            "                                                                 \n",
            " dense_7 (Dense)             (None, 512)               262656    \n",
            "                                                                 \n",
            "=================================================================\n",
            "Total params: 664,576\n",
            "Trainable params: 664,576\n",
            "Non-trainable params: 0\n",
            "_________________________________________________________________\n"
          ]
        }
      ]
    },
    {
      "cell_type": "code",
      "source": [
        "network2 = compila_modelo(network2)"
      ],
      "metadata": {
        "id": "UCdA0K_qyTUq"
      },
      "execution_count": 23,
      "outputs": []
    },
    {
      "cell_type": "code",
      "source": [
        "historia2 = entrena_modelo(network2)"
      ],
      "metadata": {
        "id": "WSuomx5oybpu",
        "outputId": "921e30ea-04df-4d5f-f2b9-f813b2f01bd8",
        "colab": {
          "base_uri": "https://localhost:8080/"
        }
      },
      "execution_count": 24,
      "outputs": [
        {
          "output_type": "stream",
          "name": "stdout",
          "text": [
            "Epoch 1/30\n",
            "391/391 [==============================] - 2s 5ms/step - loss: 0.6020 - accuracy: 0.8976 - val_loss: 0.3095 - val_accuracy: 0.9501\n",
            "Epoch 2/30\n",
            "391/391 [==============================] - 2s 4ms/step - loss: 0.2810 - accuracy: 0.9492 - val_loss: 0.2303 - val_accuracy: 0.9616\n",
            "Epoch 3/30\n",
            "391/391 [==============================] - 3s 6ms/step - loss: 0.2199 - accuracy: 0.9601 - val_loss: 0.2138 - val_accuracy: 0.9611\n",
            "Epoch 4/30\n",
            "391/391 [==============================] - 2s 5ms/step - loss: 0.1932 - accuracy: 0.9658 - val_loss: 0.2186 - val_accuracy: 0.9563\n",
            "Epoch 5/30\n",
            "391/391 [==============================] - 2s 4ms/step - loss: 0.1766 - accuracy: 0.9688 - val_loss: 0.1859 - val_accuracy: 0.9664\n",
            "Epoch 6/30\n",
            "391/391 [==============================] - 2s 4ms/step - loss: 0.1658 - accuracy: 0.9716 - val_loss: 0.1954 - val_accuracy: 0.9622\n",
            "Epoch 7/30\n",
            "391/391 [==============================] - 2s 4ms/step - loss: 0.1580 - accuracy: 0.9732 - val_loss: 0.1751 - val_accuracy: 0.9676\n",
            "Epoch 8/30\n",
            "391/391 [==============================] - 2s 4ms/step - loss: 0.1526 - accuracy: 0.9727 - val_loss: 0.1604 - val_accuracy: 0.9712\n",
            "Epoch 9/30\n",
            "391/391 [==============================] - 2s 4ms/step - loss: 0.1471 - accuracy: 0.9747 - val_loss: 0.1400 - val_accuracy: 0.9754\n",
            "Epoch 10/30\n",
            "391/391 [==============================] - 2s 4ms/step - loss: 0.1424 - accuracy: 0.9756 - val_loss: 0.1564 - val_accuracy: 0.9699\n",
            "Epoch 11/30\n",
            "391/391 [==============================] - 2s 4ms/step - loss: 0.1401 - accuracy: 0.9767 - val_loss: 0.1558 - val_accuracy: 0.9724\n",
            "Epoch 12/30\n",
            "391/391 [==============================] - 2s 4ms/step - loss: 0.1349 - accuracy: 0.9771 - val_loss: 0.1515 - val_accuracy: 0.9739\n",
            "Epoch 13/30\n",
            "391/391 [==============================] - 2s 4ms/step - loss: 0.1336 - accuracy: 0.9771 - val_loss: 0.1562 - val_accuracy: 0.9705\n",
            "Epoch 14/30\n",
            "391/391 [==============================] - 2s 4ms/step - loss: 0.1285 - accuracy: 0.9788 - val_loss: 0.1733 - val_accuracy: 0.9672\n",
            "Epoch 15/30\n",
            "391/391 [==============================] - 2s 4ms/step - loss: 0.1269 - accuracy: 0.9787 - val_loss: 0.1586 - val_accuracy: 0.9684\n",
            "Epoch 16/30\n",
            "391/391 [==============================] - 2s 4ms/step - loss: 0.1261 - accuracy: 0.9781 - val_loss: 0.1356 - val_accuracy: 0.9752\n",
            "Epoch 17/30\n",
            "391/391 [==============================] - 2s 4ms/step - loss: 0.1231 - accuracy: 0.9792 - val_loss: 0.1470 - val_accuracy: 0.9722\n",
            "Epoch 18/30\n",
            "391/391 [==============================] - 2s 4ms/step - loss: 0.1223 - accuracy: 0.9792 - val_loss: 0.1572 - val_accuracy: 0.9704\n",
            "Epoch 19/30\n",
            "391/391 [==============================] - 2s 4ms/step - loss: 0.1189 - accuracy: 0.9801 - val_loss: 0.1403 - val_accuracy: 0.9752\n",
            "Epoch 20/30\n",
            "391/391 [==============================] - 2s 4ms/step - loss: 0.1176 - accuracy: 0.9798 - val_loss: 0.1426 - val_accuracy: 0.9736\n",
            "Epoch 21/30\n",
            "391/391 [==============================] - 2s 4ms/step - loss: 0.1176 - accuracy: 0.9798 - val_loss: 0.1247 - val_accuracy: 0.9788\n",
            "Epoch 22/30\n",
            "391/391 [==============================] - 2s 4ms/step - loss: 0.1170 - accuracy: 0.9801 - val_loss: 0.1390 - val_accuracy: 0.9749\n",
            "Epoch 23/30\n",
            "391/391 [==============================] - 2s 4ms/step - loss: 0.1150 - accuracy: 0.9803 - val_loss: 0.1828 - val_accuracy: 0.9614\n",
            "Epoch 24/30\n",
            "391/391 [==============================] - 2s 4ms/step - loss: 0.1133 - accuracy: 0.9815 - val_loss: 0.1405 - val_accuracy: 0.9741\n",
            "Epoch 25/30\n",
            "391/391 [==============================] - 2s 4ms/step - loss: 0.1111 - accuracy: 0.9809 - val_loss: 0.1385 - val_accuracy: 0.9729\n",
            "Epoch 26/30\n",
            "391/391 [==============================] - 2s 4ms/step - loss: 0.1104 - accuracy: 0.9820 - val_loss: 0.1322 - val_accuracy: 0.9740\n",
            "Epoch 27/30\n",
            "391/391 [==============================] - 2s 5ms/step - loss: 0.1091 - accuracy: 0.9813 - val_loss: 0.1310 - val_accuracy: 0.9758\n",
            "Epoch 28/30\n",
            "391/391 [==============================] - 2s 5ms/step - loss: 0.1090 - accuracy: 0.9819 - val_loss: 0.1751 - val_accuracy: 0.9632\n",
            "Epoch 29/30\n",
            "391/391 [==============================] - 2s 4ms/step - loss: 0.1080 - accuracy: 0.9825 - val_loss: 0.1382 - val_accuracy: 0.9742\n",
            "Epoch 30/30\n",
            "391/391 [==============================] - 2s 4ms/step - loss: 0.1068 - accuracy: 0.9825 - val_loss: 0.1892 - val_accuracy: 0.9614\n"
          ]
        }
      ]
    },
    {
      "cell_type": "code",
      "source": [
        "pinta_perdida_entrenamiento_validacion(historia2)"
      ],
      "metadata": {
        "id": "aXXzm8tpyj6X",
        "outputId": "8aa3bbb5-8aa4-489d-d628-ef1ef29d7a5e",
        "colab": {
          "base_uri": "https://localhost:8080/",
          "height": 295
        }
      },
      "execution_count": 25,
      "outputs": [
        {
          "output_type": "display_data",
          "data": {
            "text/plain": [
              "<Figure size 432x288 with 1 Axes>"
            ],
            "image/png": "[encoded data removed]"
          },
          "metadata": {
            "needs_background": "light"
          }
        }
      ]
    },
    {
      "cell_type": "code",
      "source": [
        "pinta_precision_entrenamiento_validacion(historia2)"
      ],
      "metadata": {
        "id": "CLTsg5LTypH9",
        "outputId": "ec9d0512-5a82-4cd3-a5d9-4eb5f8789eef",
        "colab": {
          "base_uri": "https://localhost:8080/",
          "height": 295
        }
      },
      "execution_count": 26,
      "outputs": [
        {
          "output_type": "display_data",
          "data": {
            "text/plain": [
              "<Figure size 432x288 with 1 Axes>"
            ],
            "image/png": "[encoded data removed]"
          },
          "metadata": {
            "needs_background": "light"
          }
        }
      ]
    },
    {
      "cell_type": "markdown",
      "source": [
        "### Caso 3: Con regularizador l1_l2"
      ],
      "metadata": {
        "id": "692oWz8oB82n"
      }
    },
    {
      "cell_type": "code",
      "source": [
        "network3 = crea_modelo(3)"
      ],
      "metadata": {
        "id": "5fdxkjoKzFcu",
        "outputId": "f18a0ea6-763c-4f68-b436-1541bcd58281",
        "colab": {
          "base_uri": "https://localhost:8080/"
        }
      },
      "execution_count": null,
      "outputs": [
        {
          "output_type": "stream",
          "name": "stdout",
          "text": [
            "Model: \"sequential_13\"\n",
            "_________________________________________________________________\n",
            " Layer (type)                Output Shape              Param #   \n",
            "=================================================================\n",
            " dense_25 (Dense)            (None, 512)               401920    \n",
            "                                                                 \n",
            " dense_26 (Dense)            (None, 10)                5130      \n",
            "                                                                 \n",
            "=================================================================\n",
            "Total params: 407,050\n",
            "Trainable params: 407,050\n",
            "Non-trainable params: 0\n",
            "_________________________________________________________________\n"
          ]
        }
      ]
    },
    {
      "cell_type": "code",
      "source": [
        "network3 = compila_modelo(network3)"
      ],
      "metadata": {
        "id": "VJzs9A2yzPhx"
      },
      "execution_count": null,
      "outputs": []
    },
    {
      "cell_type": "code",
      "source": [
        "historia3 = entrena_modelo(network3)"
      ],
      "metadata": {
        "id": "1JCUbcCQzY6E",
        "outputId": "d7e7a9ba-5c90-4471-b380-3476d2d692e4",
        "colab": {
          "base_uri": "https://localhost:8080/"
        }
      },
      "execution_count": null,
      "outputs": [
        {
          "output_type": "stream",
          "name": "stdout",
          "text": [
            "Epoch 1/30\n",
            "391/391 [==============================] - 2s 5ms/step - loss: 2.1612 - accuracy: 0.8410 - val_loss: 1.0752 - val_accuracy: 0.8720\n",
            "Epoch 2/30\n",
            "391/391 [==============================] - 2s 4ms/step - loss: 0.9756 - accuracy: 0.8773 - val_loss: 0.8638 - val_accuracy: 0.8994\n",
            "Epoch 3/30\n",
            "391/391 [==============================] - 1s 4ms/step - loss: 0.8515 - accuracy: 0.9002 - val_loss: 0.7422 - val_accuracy: 0.9299\n",
            "Epoch 4/30\n",
            "391/391 [==============================] - 1s 4ms/step - loss: 0.7763 - accuracy: 0.9144 - val_loss: 0.8881 - val_accuracy: 0.8661\n",
            "Epoch 5/30\n",
            "391/391 [==============================] - 2s 4ms/step - loss: 0.7266 - accuracy: 0.9229 - val_loss: 0.7132 - val_accuracy: 0.9261\n",
            "Epoch 6/30\n",
            "391/391 [==============================] - 1s 4ms/step - loss: 0.6892 - accuracy: 0.9293 - val_loss: 0.6980 - val_accuracy: 0.9282\n",
            "Epoch 7/30\n",
            "391/391 [==============================] - 1s 4ms/step - loss: 0.6617 - accuracy: 0.9327 - val_loss: 0.6938 - val_accuracy: 0.9210\n",
            "Epoch 8/30\n",
            "391/391 [==============================] - 1s 4ms/step - loss: 0.6421 - accuracy: 0.9358 - val_loss: 0.6166 - val_accuracy: 0.9471\n",
            "Epoch 9/30\n",
            "391/391 [==============================] - 1s 4ms/step - loss: 0.6247 - accuracy: 0.9394 - val_loss: 0.5953 - val_accuracy: 0.9508\n",
            "Epoch 10/30\n",
            "391/391 [==============================] - 1s 4ms/step - loss: 0.6101 - accuracy: 0.9419 - val_loss: 0.6033 - val_accuracy: 0.9460\n",
            "Epoch 11/30\n",
            "391/391 [==============================] - 2s 4ms/step - loss: 0.5958 - accuracy: 0.9431 - val_loss: 0.6311 - val_accuracy: 0.9374\n",
            "Epoch 12/30\n",
            "391/391 [==============================] - 1s 4ms/step - loss: 0.5848 - accuracy: 0.9453 - val_loss: 0.5728 - val_accuracy: 0.9520\n",
            "Epoch 13/30\n",
            "391/391 [==============================] - 1s 4ms/step - loss: 0.5764 - accuracy: 0.9471 - val_loss: 0.5619 - val_accuracy: 0.9528\n",
            "Epoch 14/30\n",
            "391/391 [==============================] - 1s 4ms/step - loss: 0.5696 - accuracy: 0.9472 - val_loss: 0.5525 - val_accuracy: 0.9549\n",
            "Epoch 15/30\n",
            "391/391 [==============================] - 2s 4ms/step - loss: 0.5601 - accuracy: 0.9497 - val_loss: 0.5561 - val_accuracy: 0.9524\n",
            "Epoch 16/30\n",
            "391/391 [==============================] - 1s 4ms/step - loss: 0.5542 - accuracy: 0.9499 - val_loss: 0.5461 - val_accuracy: 0.9559\n",
            "Epoch 17/30\n",
            "391/391 [==============================] - 1s 4ms/step - loss: 0.5503 - accuracy: 0.9500 - val_loss: 0.5422 - val_accuracy: 0.9505\n",
            "Epoch 18/30\n",
            "391/391 [==============================] - 1s 4ms/step - loss: 0.5418 - accuracy: 0.9526 - val_loss: 0.5211 - val_accuracy: 0.9598\n",
            "Epoch 19/30\n",
            "391/391 [==============================] - 1s 4ms/step - loss: 0.5385 - accuracy: 0.9534 - val_loss: 0.5542 - val_accuracy: 0.9504\n",
            "Epoch 20/30\n",
            "391/391 [==============================] - 1s 4ms/step - loss: 0.5324 - accuracy: 0.9529 - val_loss: 0.5407 - val_accuracy: 0.9526\n",
            "Epoch 21/30\n",
            "391/391 [==============================] - 2s 4ms/step - loss: 0.5305 - accuracy: 0.9523 - val_loss: 0.5362 - val_accuracy: 0.9528\n",
            "Epoch 22/30\n",
            "391/391 [==============================] - 2s 4ms/step - loss: 0.5232 - accuracy: 0.9546 - val_loss: 0.5140 - val_accuracy: 0.9590\n",
            "Epoch 23/30\n",
            "391/391 [==============================] - 2s 4ms/step - loss: 0.5223 - accuracy: 0.9553 - val_loss: 0.4954 - val_accuracy: 0.9646\n",
            "Epoch 24/30\n",
            "391/391 [==============================] - 1s 4ms/step - loss: 0.5193 - accuracy: 0.9551 - val_loss: 0.5071 - val_accuracy: 0.9567\n",
            "Epoch 25/30\n",
            "391/391 [==============================] - 1s 4ms/step - loss: 0.5153 - accuracy: 0.9564 - val_loss: 0.4862 - val_accuracy: 0.9639\n",
            "Epoch 26/30\n",
            "391/391 [==============================] - 1s 4ms/step - loss: 0.5116 - accuracy: 0.9561 - val_loss: 0.4997 - val_accuracy: 0.9590\n",
            "Epoch 27/30\n",
            "391/391 [==============================] - 2s 4ms/step - loss: 0.5091 - accuracy: 0.9570 - val_loss: 0.5006 - val_accuracy: 0.9602\n",
            "Epoch 28/30\n",
            "391/391 [==============================] - 1s 4ms/step - loss: 0.5064 - accuracy: 0.9565 - val_loss: 0.4864 - val_accuracy: 0.9622\n",
            "Epoch 29/30\n",
            "391/391 [==============================] - 2s 4ms/step - loss: 0.5050 - accuracy: 0.9572 - val_loss: 0.4864 - val_accuracy: 0.9597\n",
            "Epoch 30/30\n",
            "391/391 [==============================] - 1s 4ms/step - loss: 0.5014 - accuracy: 0.9578 - val_loss: 0.4838 - val_accuracy: 0.9626\n"
          ]
        }
      ]
    },
    {
      "cell_type": "code",
      "source": [
        "pinta_perdida_entrenamiento_validacion(historia3)"
      ],
      "metadata": {
        "id": "I8XzPVtyze8y",
        "outputId": "2cdcbd64-be63-40db-fcf8-7063bbc6352a",
        "colab": {
          "base_uri": "https://localhost:8080/",
          "height": 295
        }
      },
      "execution_count": null,
      "outputs": [
        {
          "output_type": "display_data",
          "data": {
            "text/plain": [
              "<Figure size 432x288 with 1 Axes>"
            ],
            "image/png": "[encoded data removed]"
          },
          "metadata": {
            "needs_background": "light"
          }
        }
      ]
    },
    {
      "cell_type": "code",
      "source": [
        "pinta_precision_entrenamiento_validacion(historia3)"
      ],
      "metadata": {
        "id": "nKk7AmM8zi3A",
        "outputId": "b2eb7d1f-dd1f-4213-94d7-b323a3c6be8f",
        "colab": {
          "base_uri": "https://localhost:8080/",
          "height": 295
        }
      },
      "execution_count": null,
      "outputs": [
        {
          "output_type": "display_data",
          "data": {
            "text/plain": [
              "<Figure size 432x288 with 1 Axes>"
            ],
            "image/png": "[encoded data removed]"
          },
          "metadata": {
            "needs_background": "light"
          }
        }
      ]
    },
    {
      "cell_type": "markdown",
      "source": [
        "### Caso 4: Con Dropout"
      ],
      "metadata": {
        "id": "OPVcbgcXCFRL"
      }
    },
    {
      "cell_type": "code",
      "source": [
        "network4 = crea_modelo(4)"
      ],
      "metadata": {
        "id": "5MVbUNX11Pgr",
        "outputId": "789b873b-e240-44be-9faa-ff824ad6b986",
        "colab": {
          "base_uri": "https://localhost:8080/"
        }
      },
      "execution_count": 37,
      "outputs": [
        {
          "output_type": "stream",
          "name": "stdout",
          "text": [
            "Model: \"sequential_7\"\n",
            "_________________________________________________________________\n",
            " Layer (type)                Output Shape              Param #   \n",
            "=================================================================\n",
            " dense_12 (Dense)            (None, 512)               401920    \n",
            "                                                                 \n",
            " dropout_3 (Dropout)         (None, 512)               0         \n",
            "                                                                 \n",
            " dense_13 (Dense)            (None, 512)               262656    \n",
            "                                                                 \n",
            "=================================================================\n",
            "Total params: 664,576\n",
            "Trainable params: 664,576\n",
            "Non-trainable params: 0\n",
            "_________________________________________________________________\n"
          ]
        }
      ]
    },
    {
      "cell_type": "code",
      "source": [
        "network4 = compila_modelo(network4)"
      ],
      "metadata": {
        "id": "pT-13IKI1UpW"
      },
      "execution_count": 38,
      "outputs": []
    },
    {
      "cell_type": "code",
      "source": [
        "historia4 = entrena_modelo(network4)"
      ],
      "metadata": {
        "id": "kNWidx1S1aCH",
        "colab": {
          "base_uri": "https://localhost:8080/"
        },
        "outputId": "0b1c9726-a2a5-45a3-9890-e94a8be8711b"
      },
      "execution_count": 39,
      "outputs": [
        {
          "output_type": "stream",
          "name": "stdout",
          "text": [
            "Epoch 1/30\n",
            "391/391 [==============================] - 2s 5ms/step - loss: 0.4177 - accuracy: 0.8844 - val_loss: 0.1728 - val_accuracy: 0.9513\n",
            "Epoch 2/30\n",
            "391/391 [==============================] - 2s 4ms/step - loss: 0.1823 - accuracy: 0.9464 - val_loss: 0.1273 - val_accuracy: 0.9654\n",
            "Epoch 3/30\n",
            "391/391 [==============================] - 2s 4ms/step - loss: 0.1364 - accuracy: 0.9597 - val_loss: 0.1033 - val_accuracy: 0.9704\n",
            "Epoch 4/30\n",
            "391/391 [==============================] - 2s 4ms/step - loss: 0.1123 - accuracy: 0.9659 - val_loss: 0.0864 - val_accuracy: 0.9752\n",
            "Epoch 5/30\n",
            "391/391 [==============================] - 2s 4ms/step - loss: 0.0956 - accuracy: 0.9716 - val_loss: 0.0868 - val_accuracy: 0.9739\n",
            "Epoch 6/30\n",
            "391/391 [==============================] - 2s 4ms/step - loss: 0.0860 - accuracy: 0.9739 - val_loss: 0.0874 - val_accuracy: 0.9756\n",
            "Epoch 7/30\n",
            "391/391 [==============================] - 2s 4ms/step - loss: 0.0758 - accuracy: 0.9776 - val_loss: 0.0900 - val_accuracy: 0.9755\n",
            "Epoch 8/30\n",
            "391/391 [==============================] - 2s 4ms/step - loss: 0.0728 - accuracy: 0.9781 - val_loss: 0.0790 - val_accuracy: 0.9784\n",
            "Epoch 9/30\n",
            "391/391 [==============================] - 2s 4ms/step - loss: 0.0687 - accuracy: 0.9790 - val_loss: 0.0783 - val_accuracy: 0.9792\n",
            "Epoch 10/30\n",
            "391/391 [==============================] - 2s 4ms/step - loss: 0.0615 - accuracy: 0.9818 - val_loss: 0.0779 - val_accuracy: 0.9789\n",
            "Epoch 11/30\n",
            "391/391 [==============================] - 2s 4ms/step - loss: 0.0563 - accuracy: 0.9822 - val_loss: 0.0757 - val_accuracy: 0.9811\n",
            "Epoch 12/30\n",
            "391/391 [==============================] - 2s 4ms/step - loss: 0.0535 - accuracy: 0.9837 - val_loss: 0.0783 - val_accuracy: 0.9803\n",
            "Epoch 13/30\n",
            "391/391 [==============================] - 2s 4ms/step - loss: 0.0532 - accuracy: 0.9841 - val_loss: 0.0783 - val_accuracy: 0.9795\n",
            "Epoch 14/30\n",
            "391/391 [==============================] - 2s 4ms/step - loss: 0.0498 - accuracy: 0.9848 - val_loss: 0.0818 - val_accuracy: 0.9807\n",
            "Epoch 15/30\n",
            "391/391 [==============================] - 2s 4ms/step - loss: 0.0481 - accuracy: 0.9860 - val_loss: 0.0836 - val_accuracy: 0.9803\n",
            "Epoch 16/30\n",
            "391/391 [==============================] - 2s 4ms/step - loss: 0.0451 - accuracy: 0.9872 - val_loss: 0.0879 - val_accuracy: 0.9820\n",
            "Epoch 17/30\n",
            "391/391 [==============================] - 2s 4ms/step - loss: 0.0421 - accuracy: 0.9870 - val_loss: 0.0876 - val_accuracy: 0.9804\n",
            "Epoch 18/30\n",
            "391/391 [==============================] - 2s 4ms/step - loss: 0.0400 - accuracy: 0.9888 - val_loss: 0.0810 - val_accuracy: 0.9823\n",
            "Epoch 19/30\n",
            "391/391 [==============================] - 2s 4ms/step - loss: 0.0403 - accuracy: 0.9881 - val_loss: 0.0844 - val_accuracy: 0.9824\n",
            "Epoch 20/30\n",
            "391/391 [==============================] - 2s 4ms/step - loss: 0.0370 - accuracy: 0.9886 - val_loss: 0.0859 - val_accuracy: 0.9826\n",
            "Epoch 21/30\n",
            "391/391 [==============================] - 2s 4ms/step - loss: 0.0355 - accuracy: 0.9896 - val_loss: 0.0832 - val_accuracy: 0.9826\n",
            "Epoch 22/30\n",
            "391/391 [==============================] - 2s 4ms/step - loss: 0.0339 - accuracy: 0.9899 - val_loss: 0.0910 - val_accuracy: 0.9799\n",
            "Epoch 23/30\n",
            "391/391 [==============================] - 2s 4ms/step - loss: 0.0338 - accuracy: 0.9899 - val_loss: 0.0901 - val_accuracy: 0.9817\n",
            "Epoch 24/30\n",
            "391/391 [==============================] - 2s 4ms/step - loss: 0.0323 - accuracy: 0.9899 - val_loss: 0.0886 - val_accuracy: 0.9823\n",
            "Epoch 25/30\n",
            "391/391 [==============================] - 2s 4ms/step - loss: 0.0296 - accuracy: 0.9911 - val_loss: 0.0948 - val_accuracy: 0.9825\n",
            "Epoch 26/30\n",
            "391/391 [==============================] - 2s 4ms/step - loss: 0.0311 - accuracy: 0.9912 - val_loss: 0.0898 - val_accuracy: 0.9820\n",
            "Epoch 27/30\n",
            "391/391 [==============================] - 2s 5ms/step - loss: 0.0283 - accuracy: 0.9914 - val_loss: 0.0908 - val_accuracy: 0.9827\n",
            "Epoch 28/30\n",
            "391/391 [==============================] - 2s 5ms/step - loss: 0.0281 - accuracy: 0.9914 - val_loss: 0.0937 - val_accuracy: 0.9829\n",
            "Epoch 29/30\n",
            "391/391 [==============================] - 2s 4ms/step - loss: 0.0288 - accuracy: 0.9909 - val_loss: 0.1038 - val_accuracy: 0.9814\n",
            "Epoch 30/30\n",
            "391/391 [==============================] - 2s 4ms/step - loss: 0.0256 - accuracy: 0.9926 - val_loss: 0.0962 - val_accuracy: 0.9826\n"
          ]
        }
      ]
    },
    {
      "cell_type": "code",
      "source": [
        "pinta_perdida_entrenamiento_validacion(historia4)"
      ],
      "metadata": {
        "id": "R9pI34Yr1gBO",
        "colab": {
          "base_uri": "https://localhost:8080/",
          "height": 295
        },
        "outputId": "58369263-0ee8-46b8-b57b-26b5945e4d80"
      },
      "execution_count": 40,
      "outputs": [
        {
          "output_type": "display_data",
          "data": {
            "text/plain": [
              "<Figure size 432x288 with 1 Axes>"
            ],
            "image/png": "[encoded data removed]"
          },
          "metadata": {
            "needs_background": "light"
          }
        }
      ]
    },
    {
      "cell_type": "code",
      "source": [
        "pinta_precision_entrenamiento_validacion(historia4)"
      ],
      "metadata": {
        "id": "EwEIEOKx1lQr",
        "colab": {
          "base_uri": "https://localhost:8080/",
          "height": 295
        },
        "outputId": "3a219e12-f0e7-4682-cb71-61477d39e605"
      },
      "execution_count": 41,
      "outputs": [
        {
          "output_type": "display_data",
          "data": {
            "text/plain": [
              "<Figure size 432x288 with 1 Axes>"
            ],
            "image/png": "[encoded data removed]"
          },
          "metadata": {
            "needs_background": "light"
          }
        }
      ]
    },
    {
      "cell_type": "markdown",
      "source": [
        "### Caso 5: Error de código de regularizador"
      ],
      "metadata": {
        "id": "e6rlKx2nCOgU"
      }
    },
    {
      "cell_type": "code",
      "source": [
        "network5 = crea_modelo(5)"
      ],
      "metadata": {
        "id": "SqGDm8VM1rwR",
        "outputId": "b8ae2d6f-7379-41e3-8a87-9ca0e0cd0a8d",
        "colab": {
          "base_uri": "https://localhost:8080/"
        }
      },
      "execution_count": 21,
      "outputs": [
        {
          "output_type": "stream",
          "name": "stdout",
          "text": [
            "ERROR. El valor debe estar entre 0 y 4.\n",
            "Model: \"sequential_3\"\n",
            "_________________________________________________________________\n",
            " Layer (type)                Output Shape              Param #   \n",
            "=================================================================\n",
            " dense_5 (Dense)             (None, 512)               401920    \n",
            "                                                                 \n",
            "=================================================================\n",
            "Total params: 401,920\n",
            "Trainable params: 401,920\n",
            "Non-trainable params: 0\n",
            "_________________________________________________________________\n"
          ]
        }
      ]
    },
    {
      "cell_type": "markdown",
      "source": [
        "### CONCLUSIONES"
      ],
      "metadata": {
        "id": "IklUu29cCcVe"
      }
    },
    {
      "cell_type": "markdown",
      "source": [
        "Como podemos observar el mejor regularizado es el modelo drop up ya que es con el que conseguimos mayor precision (casi 100% con el dropout en 0.5, si probasemos con uno menor la precisión descenderia), este esta seguido por el modelo l2 el cual llega aproximadamente a tener una precisión del 98%, por último los modelos l1 y el modelo mixto l1_l2 llegan a una precisión del 95%. Pese a esto, también tenemos que decir que el modelo sin regularizadores alcanza una precision cercana al 100% aunque en este caso si que se sobreentrena. También hemos tenido en cuanta que se introduzca un regularizador que no este entre 0 y 4 para que el programa de error y así avise al usuario.\n"
      ],
      "metadata": {
        "id": "cB_OYjjaChzN"
      }
    }
  ]
}