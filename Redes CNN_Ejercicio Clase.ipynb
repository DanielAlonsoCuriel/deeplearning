{
  "nbformat": 4,
  "nbformat_minor": 0,
  "metadata": {
    "colab": {
      "provenance": [],
      "include_colab_link": true
    },
    "kernelspec": {
      "name": "python3",
      "display_name": "Python 3"
    },
    "language_info": {
      "name": "python"
    },
    "accelerator": "GPU",
    "gpuClass": "standard"
  },
  "cells": [
    {
      "cell_type": "markdown",
      "metadata": {
        "id": "view-in-github",
        "colab_type": "text"
      },
      "source": [
        "<a href=\"https://colab.research.google.com/github/DanielAlonsoCuriel/deeplearning/blob/main/Redes%20CNN_Ejercicio%20Clase.ipynb\" target=\"_parent\"><img src=\"https://colab.research.google.com/assets/colab-badge.svg\" alt=\"Open In Colab\"/></a>"
      ]
    },
    {
      "cell_type": "code",
      "execution_count": 26,
      "metadata": {
        "id": "XpNGzfU8ACaQ",
        "outputId": "87140b1c-f3af-43d2-81d6-8d89db29e259",
        "colab": {
          "base_uri": "https://localhost:8080/"
        }
      },
      "outputs": [
        {
          "output_type": "stream",
          "name": "stdout",
          "text": [
            "Colab only includes TensorFlow 2.x; %tensorflow_version has no effect.\n",
            "2.9.2\n"
          ]
        }
      ],
      "source": [
        "%tensorflow_version 2.x\n",
        "import tensorflow as tf\n",
        "from tensorflow import keras\n",
        "\n",
        "import numpy as np\n",
        "import matplotlib.pyplot as plt\n",
        "\n",
        "print(tf.__version__)#\n",
        "\n",
        "from tensorflow.keras.models import Sequential\n",
        "from tensorflow.keras.layers import Dense, Flatten, Conv2D, MaxPooling2D\n",
        "from tensorflow.keras.losses import sparse_categorical_crossentropy\n",
        "from tensorflow.keras.optimizers import Adam\n",
        "import matplotlib.pyplot as plt"
      ]
    },
    {
      "cell_type": "code",
      "source": [
        "# Configuración del modelo\n",
        "batch_size = 50\n",
        "img_width, img_height, img_num_channels = 32,32,3 # Forma de la imagen\n",
        "loss_function = sparse_categorical_crossentropy\n",
        "no_classes = 100\n",
        "no_epochs = 100\n",
        "optimizer = Adam()\n",
        "validation_split = 0.2\n",
        "verbosity = 1\n",
        "input_shape = (img_width, img_height, img_num_channels)"
      ],
      "metadata": {
        "id": "cvrXA-JaAF8h"
      },
      "execution_count": 27,
      "outputs": []
    },
    {
      "cell_type": "code",
      "source": [
        "(train_images, train_labels), (test_images, test_labels) = tf.keras.datasets.cifar100.load_data(label_mode=\"fine\")\n",
        "# CIFAR: https://www.cs.toronto.edu/~kriz/cifar.html\n",
        "assert train_images.shape == (50000,32,32,3) # Forma tensor juego imagenes de entrenamiento\n",
        "assert test_images.shape == (10000, 32, 32, 3) # Forma tensor juego imagenes de test\n",
        "assert train_labels.shape == (50000, 1) # Forma tensor etiquetas de entrenamiento\n",
        "assert test_labels.shape == (10000, 1) # Forma tensor etiquetas de test"
      ],
      "metadata": {
        "id": "RYgWQWuZAPaH"
      },
      "execution_count": 28,
      "outputs": []
    },
    {
      "cell_type": "code",
      "source": [
        "# Pintamos la tercera imagen de entrenamiento (la número 2 en el array)\n",
        "# Veamos el cuarto elemento de ese tensor y pintémoslo con matplotlib\n",
        "import matplotlib.pyplot as plt\n",
        "# Seleccionamos un dígito específico a lo largo del primer eje (Cortar el tensor)\n",
        "digit = train_images[2]\n",
        "plt.imshow(digit, cmap=plt.cm.binary)\n",
        "plt.show()"
      ],
      "metadata": {
        "id": "YOIWl3BhAvoH",
        "outputId": "2eb06973-ec95-4824-94cd-7974c2c3a32e",
        "colab": {
          "base_uri": "https://localhost:8080/",
          "height": 266
        }
      },
      "execution_count": 29,
      "outputs": [
        {
          "output_type": "display_data",
          "data": {
            "text/plain": [
              "<Figure size 432x288 with 1 Axes>"
            ],
            "image/png": "[encoded data removed]"
          },
          "metadata": {
            "needs_background": "light"
          }
        }
      ]
    },
    {
      "cell_type": "code",
      "source": [
        "print(train_images[2].shape)\n",
        "print(train_images[2])"
      ],
      "metadata": {
        "id": "CYxj_8S2AwiK",
        "outputId": "26809b84-efba-4084-9444-1801ba7079da",
        "colab": {
          "base_uri": "https://localhost:8080/"
        }
      },
      "execution_count": 30,
      "outputs": [
        {
          "output_type": "stream",
          "name": "stdout",
          "text": [
            "(32, 32, 3)\n",
            "[[[250 250 248]\n",
            "  [248 249 243]\n",
            "  [247 248 239]\n",
            "  ...\n",
            "  [250 250 246]\n",
            "  [250 250 246]\n",
            "  [249 250 246]]\n",
            "\n",
            " [[250 251 245]\n",
            "  [248 249 238]\n",
            "  [247 247 234]\n",
            "  ...\n",
            "  [251 251 242]\n",
            "  [251 252 243]\n",
            "  [250 251 243]]\n",
            "\n",
            " [[251 251 244]\n",
            "  [250 248 237]\n",
            "  [250 245 233]\n",
            "  ...\n",
            "  [250 249 238]\n",
            "  [250 249 240]\n",
            "  [250 249 242]]\n",
            "\n",
            " ...\n",
            "\n",
            " [[221 213 191]\n",
            "  [221 206 176]\n",
            "  [225 207 181]\n",
            "  ...\n",
            "  [199 176 134]\n",
            "  [207 193 165]\n",
            "  [233 229 226]]\n",
            "\n",
            " [[225 223 204]\n",
            "  [227 219 196]\n",
            "  [229 216 200]\n",
            "  ...\n",
            "  [204 185 151]\n",
            "  [212 201 180]\n",
            "  [234 232 228]]\n",
            "\n",
            " [[233 233 226]\n",
            "  [234 232 224]\n",
            "  [235 230 225]\n",
            "  ...\n",
            "  [219 209 194]\n",
            "  [223 216 207]\n",
            "  [232 230 228]]]\n"
          ]
        }
      ]
    },
    {
      "cell_type": "code",
      "source": [
        "# Normalizar imágenes de entrenamiento y de test\n",
        "\n",
        "train_images = train_images.astype('float32') / 255\n",
        "\n",
        "test_images = test_images.astype('float32') / 255"
      ],
      "metadata": {
        "id": "K0teESsKA8N7"
      },
      "execution_count": 31,
      "outputs": []
    },
    {
      "cell_type": "code",
      "source": [
        "print (train_images.shape)\n",
        "print (train_labels.shape)"
      ],
      "metadata": {
        "id": "jHxaQNAdBDTQ",
        "outputId": "c65eed0a-6b51-4885-e4a1-17f8850e628f",
        "colab": {
          "base_uri": "https://localhost:8080/"
        }
      },
      "execution_count": 32,
      "outputs": [
        {
          "output_type": "stream",
          "name": "stdout",
          "text": [
            "(50000, 32, 32, 3)\n",
            "(50000, 1)\n"
          ]
        }
      ]
    },
    {
      "cell_type": "code",
      "source": [
        "# Crear el Modelo de red neuronal CNN con:\n",
        "# stride = 1\n",
        "# ventanas convolucionales de 3x3\n",
        "# ventanas de pooling de 2x2\n",
        "# funciones de activación 'relu'\n",
        "# 3 capas convolucionales con 32, 64 y 128 filtros respectivamente\n",
        "# Aplanamos la última salida y añadimos dos capas densas con función activación \n",
        "# 'relu' de 256 y 128 neuronas cada una.\n",
        "# Tenemos en cuenta el número de clases a clasificar para poner la capa final\n",
        "from tensorflow.keras import Sequential\n",
        "from tensorflow.keras.layers import Conv2D\n",
        "from tensorflow.keras.layers import MaxPooling2D\n",
        "from tensorflow.keras.layers import Dense\n",
        "from tensorflow.keras.layers import Flatten\n",
        "\n",
        "model = Sequential()\n",
        "model.add(Conv2D(32, (3, 3), activation='relu', input_shape=(32, 32, 3)))\n",
        "model.add(MaxPooling2D((2, 2)))\n",
        "\n",
        "model.add(Conv2D(64, (3, 3), activation='relu', input_shape=(32, 32, 3)))\n",
        "model.add(MaxPooling2D((2, 2)))\n",
        "\n",
        "model.add(Conv2D(128, (3, 3), activation='relu', input_shape=(32, 32, 3)))\n",
        "model.add(MaxPooling2D((2, 2)))\n",
        "\n",
        "\n",
        "model.add(Flatten())\n",
        "model.add(Dense(256, activation='relu'))\n",
        "model.add(Dense(128, activation='relu'))\n",
        "model.add(Dense(100, activation='softmax'))\n",
        "model.summary()"
      ],
      "metadata": {
        "id": "AQhtNiJlBGfx",
        "outputId": "8db0af74-8b16-4d07-adbc-a98a260d9457",
        "colab": {
          "base_uri": "https://localhost:8080/"
        }
      },
      "execution_count": 33,
      "outputs": [
        {
          "output_type": "stream",
          "name": "stdout",
          "text": [
            "Model: \"sequential_2\"\n",
            "_________________________________________________________________\n",
            " Layer (type)                Output Shape              Param #   \n",
            "=================================================================\n",
            " conv2d_6 (Conv2D)           (None, 30, 30, 32)        896       \n",
            "                                                                 \n",
            " max_pooling2d_6 (MaxPooling  (None, 15, 15, 32)       0         \n",
            " 2D)                                                             \n",
            "                                                                 \n",
            " conv2d_7 (Conv2D)           (None, 13, 13, 64)        18496     \n",
            "                                                                 \n",
            " max_pooling2d_7 (MaxPooling  (None, 6, 6, 64)         0         \n",
            " 2D)                                                             \n",
            "                                                                 \n",
            " conv2d_8 (Conv2D)           (None, 4, 4, 128)         73856     \n",
            "                                                                 \n",
            " max_pooling2d_8 (MaxPooling  (None, 2, 2, 128)        0         \n",
            " 2D)                                                             \n",
            "                                                                 \n",
            " flatten_2 (Flatten)         (None, 512)               0         \n",
            "                                                                 \n",
            " dense_6 (Dense)             (None, 256)               131328    \n",
            "                                                                 \n",
            " dense_7 (Dense)             (None, 128)               32896     \n",
            "                                                                 \n",
            " dense_8 (Dense)             (None, 100)               12900     \n",
            "                                                                 \n",
            "=================================================================\n",
            "Total params: 270,372\n",
            "Trainable params: 270,372\n",
            "Non-trainable params: 0\n",
            "_________________________________________________________________\n"
          ]
        }
      ]
    },
    {
      "cell_type": "code",
      "source": [
        "# Compilamos el modelo con métrica preción\n",
        "model.compile(loss= loss_function,\n",
        "              optimizer=optimizer,\n",
        "              metrics=['accuracy'])\n",
        "\n",
        "history = model.fit(train_images, train_labels,\n",
        "          batch_size= batch_size,\n",
        "          epochs= no_epochs,\n",
        "          verbose= verbosity,\n",
        "          validation_split = validation_split)\n",
        "\n",
        "test_loss, test_acc = model.evaluate(test_images, test_labels)\n",
        "\n",
        "print('Test accuracy:', test_acc)"
      ],
      "metadata": {
        "id": "t631tbjkCFRr",
        "outputId": "d6d4aaf5-b606-4596-8567-fd20a8c5aee9",
        "colab": {
          "base_uri": "https://localhost:8080/"
        }
      },
      "execution_count": 34,
      "outputs": [
        {
          "output_type": "stream",
          "name": "stdout",
          "text": [
            "Epoch 1/100\n",
            "800/800 [==============================] - 4s 5ms/step - loss: 4.0913 - accuracy: 0.0691 - val_loss: 3.6903 - val_accuracy: 0.1308\n",
            "Epoch 2/100\n",
            "800/800 [==============================] - 4s 6ms/step - loss: 3.4635 - accuracy: 0.1697 - val_loss: 3.3064 - val_accuracy: 0.1934\n",
            "Epoch 3/100\n",
            "800/800 [==============================] - 3s 4ms/step - loss: 3.1248 - accuracy: 0.2303 - val_loss: 3.0917 - val_accuracy: 0.2439\n",
            "Epoch 4/100\n",
            "800/800 [==============================] - 4s 5ms/step - loss: 2.8838 - accuracy: 0.2783 - val_loss: 2.9069 - val_accuracy: 0.2791\n",
            "Epoch 5/100\n",
            "800/800 [==============================] - 4s 5ms/step - loss: 2.6819 - accuracy: 0.3183 - val_loss: 2.8028 - val_accuracy: 0.3040\n",
            "Epoch 6/100\n",
            "800/800 [==============================] - 3s 4ms/step - loss: 2.5175 - accuracy: 0.3528 - val_loss: 2.7805 - val_accuracy: 0.3140\n",
            "Epoch 7/100\n",
            "800/800 [==============================] - 4s 5ms/step - loss: 2.3740 - accuracy: 0.3807 - val_loss: 2.7346 - val_accuracy: 0.3229\n",
            "Epoch 8/100\n",
            "800/800 [==============================] - 4s 5ms/step - loss: 2.2480 - accuracy: 0.4058 - val_loss: 2.6318 - val_accuracy: 0.3440\n",
            "Epoch 9/100\n",
            "800/800 [==============================] - 4s 4ms/step - loss: 2.1268 - accuracy: 0.4345 - val_loss: 2.6885 - val_accuracy: 0.3365\n",
            "Epoch 10/100\n",
            "800/800 [==============================] - 4s 5ms/step - loss: 2.0143 - accuracy: 0.4565 - val_loss: 2.6305 - val_accuracy: 0.3472\n",
            "Epoch 11/100\n",
            "800/800 [==============================] - 4s 4ms/step - loss: 1.9150 - accuracy: 0.4812 - val_loss: 2.6577 - val_accuracy: 0.3446\n",
            "Epoch 12/100\n",
            "800/800 [==============================] - 4s 5ms/step - loss: 1.8246 - accuracy: 0.4983 - val_loss: 2.6932 - val_accuracy: 0.3545\n",
            "Epoch 13/100\n",
            "800/800 [==============================] - 4s 5ms/step - loss: 1.7240 - accuracy: 0.5239 - val_loss: 2.7308 - val_accuracy: 0.3548\n",
            "Epoch 14/100\n",
            "800/800 [==============================] - 3s 4ms/step - loss: 1.6362 - accuracy: 0.5457 - val_loss: 2.8517 - val_accuracy: 0.3527\n",
            "Epoch 15/100\n",
            "800/800 [==============================] - 3s 4ms/step - loss: 1.5531 - accuracy: 0.5634 - val_loss: 2.8179 - val_accuracy: 0.3547\n",
            "Epoch 16/100\n",
            "800/800 [==============================] - 3s 4ms/step - loss: 1.4691 - accuracy: 0.5849 - val_loss: 2.9145 - val_accuracy: 0.3479\n",
            "Epoch 17/100\n",
            "800/800 [==============================] - 4s 4ms/step - loss: 1.3874 - accuracy: 0.6024 - val_loss: 3.0223 - val_accuracy: 0.3423\n",
            "Epoch 18/100\n",
            "800/800 [==============================] - 3s 4ms/step - loss: 1.3104 - accuracy: 0.6246 - val_loss: 3.1467 - val_accuracy: 0.3481\n",
            "Epoch 19/100\n",
            "800/800 [==============================] - 4s 5ms/step - loss: 1.2410 - accuracy: 0.6408 - val_loss: 3.1571 - val_accuracy: 0.3506\n",
            "Epoch 20/100\n",
            "800/800 [==============================] - 4s 5ms/step - loss: 1.1733 - accuracy: 0.6554 - val_loss: 3.2955 - val_accuracy: 0.3404\n",
            "Epoch 21/100\n",
            "800/800 [==============================] - 4s 5ms/step - loss: 1.1139 - accuracy: 0.6733 - val_loss: 3.4250 - val_accuracy: 0.3398\n",
            "Epoch 22/100\n",
            "800/800 [==============================] - 3s 4ms/step - loss: 1.0493 - accuracy: 0.6877 - val_loss: 3.4957 - val_accuracy: 0.3423\n",
            "Epoch 23/100\n",
            "800/800 [==============================] - 4s 5ms/step - loss: 0.9931 - accuracy: 0.7019 - val_loss: 3.7135 - val_accuracy: 0.3366\n",
            "Epoch 24/100\n",
            "800/800 [==============================] - 3s 4ms/step - loss: 0.9428 - accuracy: 0.7126 - val_loss: 3.8189 - val_accuracy: 0.3385\n",
            "Epoch 25/100\n",
            "800/800 [==============================] - 3s 4ms/step - loss: 0.8895 - accuracy: 0.7310 - val_loss: 3.8681 - val_accuracy: 0.3319\n",
            "Epoch 26/100\n",
            "800/800 [==============================] - 3s 4ms/step - loss: 0.8431 - accuracy: 0.7420 - val_loss: 3.9923 - val_accuracy: 0.3373\n",
            "Epoch 27/100\n",
            "800/800 [==============================] - 3s 4ms/step - loss: 0.7906 - accuracy: 0.7567 - val_loss: 4.2468 - val_accuracy: 0.3365\n",
            "Epoch 28/100\n",
            "800/800 [==============================] - 4s 5ms/step - loss: 0.7501 - accuracy: 0.7663 - val_loss: 4.4685 - val_accuracy: 0.3262\n",
            "Epoch 29/100\n",
            "800/800 [==============================] - 4s 4ms/step - loss: 0.7233 - accuracy: 0.7749 - val_loss: 4.5874 - val_accuracy: 0.3235\n",
            "Epoch 30/100\n",
            "800/800 [==============================] - 3s 4ms/step - loss: 0.6882 - accuracy: 0.7824 - val_loss: 4.7823 - val_accuracy: 0.3250\n",
            "Epoch 31/100\n",
            "800/800 [==============================] - 3s 4ms/step - loss: 0.6568 - accuracy: 0.7935 - val_loss: 4.8760 - val_accuracy: 0.3284\n",
            "Epoch 32/100\n",
            "800/800 [==============================] - 4s 5ms/step - loss: 0.6260 - accuracy: 0.8000 - val_loss: 5.0217 - val_accuracy: 0.3261\n",
            "Epoch 33/100\n",
            "800/800 [==============================] - 4s 5ms/step - loss: 0.5967 - accuracy: 0.8109 - val_loss: 5.2586 - val_accuracy: 0.3203\n",
            "Epoch 34/100\n",
            "800/800 [==============================] - 4s 4ms/step - loss: 0.5729 - accuracy: 0.8156 - val_loss: 5.5033 - val_accuracy: 0.3178\n",
            "Epoch 35/100\n",
            "800/800 [==============================] - 3s 4ms/step - loss: 0.5365 - accuracy: 0.8287 - val_loss: 5.4954 - val_accuracy: 0.3105\n",
            "Epoch 36/100\n",
            "800/800 [==============================] - 3s 4ms/step - loss: 0.5467 - accuracy: 0.8247 - val_loss: 5.6162 - val_accuracy: 0.3114\n",
            "Epoch 37/100\n",
            "800/800 [==============================] - 4s 4ms/step - loss: 0.5258 - accuracy: 0.8296 - val_loss: 5.7565 - val_accuracy: 0.3176\n",
            "Epoch 38/100\n",
            "800/800 [==============================] - 4s 4ms/step - loss: 0.4797 - accuracy: 0.8454 - val_loss: 6.0584 - val_accuracy: 0.3104\n",
            "Epoch 39/100\n",
            "800/800 [==============================] - 4s 5ms/step - loss: 0.4883 - accuracy: 0.8414 - val_loss: 6.0553 - val_accuracy: 0.3096\n",
            "Epoch 40/100\n",
            "800/800 [==============================] - 4s 4ms/step - loss: 0.4791 - accuracy: 0.8457 - val_loss: 6.2340 - val_accuracy: 0.3176\n",
            "Epoch 41/100\n",
            "800/800 [==============================] - 4s 5ms/step - loss: 0.4473 - accuracy: 0.8558 - val_loss: 6.3545 - val_accuracy: 0.3113\n",
            "Epoch 42/100\n",
            "800/800 [==============================] - 3s 4ms/step - loss: 0.4615 - accuracy: 0.8501 - val_loss: 6.6326 - val_accuracy: 0.3058\n",
            "Epoch 43/100\n",
            "800/800 [==============================] - 3s 4ms/step - loss: 0.4350 - accuracy: 0.8582 - val_loss: 6.5824 - val_accuracy: 0.3161\n",
            "Epoch 44/100\n",
            "800/800 [==============================] - 3s 4ms/step - loss: 0.4078 - accuracy: 0.8665 - val_loss: 6.9450 - val_accuracy: 0.3096\n",
            "Epoch 45/100\n",
            "800/800 [==============================] - 3s 4ms/step - loss: 0.4100 - accuracy: 0.8645 - val_loss: 7.1308 - val_accuracy: 0.3070\n",
            "Epoch 46/100\n",
            "800/800 [==============================] - 4s 5ms/step - loss: 0.4207 - accuracy: 0.8636 - val_loss: 7.0613 - val_accuracy: 0.3132\n",
            "Epoch 47/100\n",
            "800/800 [==============================] - 3s 4ms/step - loss: 0.4031 - accuracy: 0.8697 - val_loss: 7.0494 - val_accuracy: 0.3060\n",
            "Epoch 48/100\n",
            "800/800 [==============================] - 3s 4ms/step - loss: 0.3960 - accuracy: 0.8712 - val_loss: 7.3588 - val_accuracy: 0.3135\n",
            "Epoch 49/100\n",
            "800/800 [==============================] - 4s 5ms/step - loss: 0.3815 - accuracy: 0.8730 - val_loss: 7.5242 - val_accuracy: 0.3108\n",
            "Epoch 50/100\n",
            "800/800 [==============================] - 4s 5ms/step - loss: 0.3703 - accuracy: 0.8786 - val_loss: 7.5163 - val_accuracy: 0.3071\n",
            "Epoch 51/100\n",
            "800/800 [==============================] - 4s 5ms/step - loss: 0.3674 - accuracy: 0.8799 - val_loss: 7.8628 - val_accuracy: 0.3122\n",
            "Epoch 52/100\n",
            "800/800 [==============================] - 4s 4ms/step - loss: 0.3622 - accuracy: 0.8824 - val_loss: 7.6118 - val_accuracy: 0.3084\n",
            "Epoch 53/100\n",
            "800/800 [==============================] - 4s 5ms/step - loss: 0.3829 - accuracy: 0.8776 - val_loss: 7.9477 - val_accuracy: 0.3069\n",
            "Epoch 54/100\n",
            "800/800 [==============================] - 4s 5ms/step - loss: 0.3562 - accuracy: 0.8861 - val_loss: 7.9165 - val_accuracy: 0.3135\n",
            "Epoch 55/100\n",
            "800/800 [==============================] - 4s 4ms/step - loss: 0.3675 - accuracy: 0.8826 - val_loss: 8.1153 - val_accuracy: 0.3105\n",
            "Epoch 56/100\n",
            "800/800 [==============================] - 3s 4ms/step - loss: 0.3490 - accuracy: 0.8862 - val_loss: 8.1306 - val_accuracy: 0.3055\n",
            "Epoch 57/100\n",
            "800/800 [==============================] - 3s 4ms/step - loss: 0.3477 - accuracy: 0.8894 - val_loss: 8.3674 - val_accuracy: 0.3040\n",
            "Epoch 58/100\n",
            "800/800 [==============================] - 3s 4ms/step - loss: 0.3503 - accuracy: 0.8890 - val_loss: 8.6497 - val_accuracy: 0.3050\n",
            "Epoch 59/100\n",
            "800/800 [==============================] - 3s 4ms/step - loss: 0.3465 - accuracy: 0.8897 - val_loss: 8.4991 - val_accuracy: 0.3074\n",
            "Epoch 60/100\n",
            "800/800 [==============================] - 4s 5ms/step - loss: 0.3293 - accuracy: 0.8945 - val_loss: 8.7777 - val_accuracy: 0.3115\n",
            "Epoch 61/100\n",
            "800/800 [==============================] - 4s 5ms/step - loss: 0.3521 - accuracy: 0.8880 - val_loss: 8.5726 - val_accuracy: 0.3083\n",
            "Epoch 62/100\n",
            "800/800 [==============================] - 3s 4ms/step - loss: 0.3178 - accuracy: 0.8985 - val_loss: 8.8674 - val_accuracy: 0.3089\n",
            "Epoch 63/100\n",
            "800/800 [==============================] - 3s 4ms/step - loss: 0.3321 - accuracy: 0.8946 - val_loss: 8.5092 - val_accuracy: 0.3031\n",
            "Epoch 64/100\n",
            "800/800 [==============================] - 4s 4ms/step - loss: 0.3351 - accuracy: 0.8929 - val_loss: 8.6644 - val_accuracy: 0.3045\n",
            "Epoch 65/100\n",
            "800/800 [==============================] - 4s 5ms/step - loss: 0.3479 - accuracy: 0.8930 - val_loss: 9.2008 - val_accuracy: 0.3014\n",
            "Epoch 66/100\n",
            "800/800 [==============================] - 4s 5ms/step - loss: 0.2881 - accuracy: 0.9075 - val_loss: 9.1456 - val_accuracy: 0.3035\n",
            "Epoch 67/100\n",
            "800/800 [==============================] - 4s 5ms/step - loss: 0.3612 - accuracy: 0.8891 - val_loss: 9.0973 - val_accuracy: 0.3103\n",
            "Epoch 68/100\n",
            "800/800 [==============================] - 3s 4ms/step - loss: 0.3164 - accuracy: 0.9008 - val_loss: 9.4129 - val_accuracy: 0.3062\n",
            "Epoch 69/100\n",
            "800/800 [==============================] - 3s 4ms/step - loss: 0.3117 - accuracy: 0.9013 - val_loss: 9.6661 - val_accuracy: 0.2977\n",
            "Epoch 70/100\n",
            "800/800 [==============================] - 3s 4ms/step - loss: 0.3057 - accuracy: 0.9041 - val_loss: 9.6417 - val_accuracy: 0.3097\n",
            "Epoch 71/100\n",
            "800/800 [==============================] - 4s 4ms/step - loss: 0.3280 - accuracy: 0.8980 - val_loss: 9.3822 - val_accuracy: 0.3040\n",
            "Epoch 72/100\n",
            "800/800 [==============================] - 4s 5ms/step - loss: 0.3077 - accuracy: 0.9045 - val_loss: 9.4858 - val_accuracy: 0.3086\n",
            "Epoch 73/100\n",
            "800/800 [==============================] - 4s 5ms/step - loss: 0.3088 - accuracy: 0.9038 - val_loss: 9.7741 - val_accuracy: 0.3070\n",
            "Epoch 74/100\n",
            "800/800 [==============================] - 4s 5ms/step - loss: 0.3090 - accuracy: 0.9058 - val_loss: 9.6268 - val_accuracy: 0.3075\n",
            "Epoch 75/100\n",
            "800/800 [==============================] - 4s 4ms/step - loss: 0.3174 - accuracy: 0.9027 - val_loss: 9.5577 - val_accuracy: 0.3040\n",
            "Epoch 76/100\n",
            "800/800 [==============================] - 4s 4ms/step - loss: 0.3144 - accuracy: 0.9044 - val_loss: 9.8899 - val_accuracy: 0.3090\n",
            "Epoch 77/100\n",
            "800/800 [==============================] - 4s 5ms/step - loss: 0.2923 - accuracy: 0.9101 - val_loss: 10.1550 - val_accuracy: 0.2991\n",
            "Epoch 78/100\n",
            "800/800 [==============================] - 3s 4ms/step - loss: 0.3119 - accuracy: 0.9036 - val_loss: 9.8693 - val_accuracy: 0.2963\n",
            "Epoch 79/100\n",
            "800/800 [==============================] - 3s 4ms/step - loss: 0.3077 - accuracy: 0.9059 - val_loss: 9.9907 - val_accuracy: 0.3055\n",
            "Epoch 80/100\n",
            "800/800 [==============================] - 4s 5ms/step - loss: 0.2934 - accuracy: 0.9097 - val_loss: 10.0859 - val_accuracy: 0.3087\n",
            "Epoch 81/100\n",
            "800/800 [==============================] - 4s 5ms/step - loss: 0.2831 - accuracy: 0.9129 - val_loss: 10.2869 - val_accuracy: 0.3055\n",
            "Epoch 82/100\n",
            "800/800 [==============================] - 4s 5ms/step - loss: 0.2844 - accuracy: 0.9118 - val_loss: 10.3697 - val_accuracy: 0.3042\n",
            "Epoch 83/100\n",
            "800/800 [==============================] - 4s 5ms/step - loss: 0.3232 - accuracy: 0.9033 - val_loss: 10.4668 - val_accuracy: 0.3030\n",
            "Epoch 84/100\n",
            "800/800 [==============================] - 3s 4ms/step - loss: 0.3166 - accuracy: 0.9050 - val_loss: 10.5106 - val_accuracy: 0.3034\n",
            "Epoch 85/100\n",
            "800/800 [==============================] - 3s 4ms/step - loss: 0.2770 - accuracy: 0.9159 - val_loss: 10.7603 - val_accuracy: 0.3078\n",
            "Epoch 86/100\n",
            "800/800 [==============================] - 4s 5ms/step - loss: 0.3190 - accuracy: 0.9056 - val_loss: 10.3059 - val_accuracy: 0.3045\n",
            "Epoch 87/100\n",
            "800/800 [==============================] - 3s 4ms/step - loss: 0.2729 - accuracy: 0.9197 - val_loss: 10.5752 - val_accuracy: 0.3048\n",
            "Epoch 88/100\n",
            "800/800 [==============================] - 4s 4ms/step - loss: 0.3070 - accuracy: 0.9086 - val_loss: 10.5780 - val_accuracy: 0.3011\n",
            "Epoch 89/100\n",
            "800/800 [==============================] - 3s 4ms/step - loss: 0.2928 - accuracy: 0.9114 - val_loss: 10.7801 - val_accuracy: 0.2922\n",
            "Epoch 90/100\n",
            "800/800 [==============================] - 3s 4ms/step - loss: 0.2854 - accuracy: 0.9141 - val_loss: 10.7709 - val_accuracy: 0.2958\n",
            "Epoch 91/100\n",
            "800/800 [==============================] - 3s 4ms/step - loss: 0.2899 - accuracy: 0.9136 - val_loss: 10.8047 - val_accuracy: 0.3050\n",
            "Epoch 92/100\n",
            "800/800 [==============================] - 4s 5ms/step - loss: 0.2786 - accuracy: 0.9172 - val_loss: 11.0983 - val_accuracy: 0.2918\n",
            "Epoch 93/100\n",
            "800/800 [==============================] - 4s 5ms/step - loss: 0.3065 - accuracy: 0.9119 - val_loss: 11.0289 - val_accuracy: 0.2984\n",
            "Epoch 94/100\n",
            "800/800 [==============================] - 3s 4ms/step - loss: 0.2811 - accuracy: 0.9176 - val_loss: 10.9697 - val_accuracy: 0.3025\n",
            "Epoch 95/100\n",
            "800/800 [==============================] - 4s 5ms/step - loss: 0.3024 - accuracy: 0.9114 - val_loss: 10.8846 - val_accuracy: 0.3009\n",
            "Epoch 96/100\n",
            "800/800 [==============================] - 3s 4ms/step - loss: 0.2583 - accuracy: 0.9231 - val_loss: 11.2249 - val_accuracy: 0.3081\n",
            "Epoch 97/100\n",
            "800/800 [==============================] - 4s 4ms/step - loss: 0.2966 - accuracy: 0.9138 - val_loss: 10.9995 - val_accuracy: 0.3076\n",
            "Epoch 98/100\n",
            "800/800 [==============================] - 4s 4ms/step - loss: 0.2799 - accuracy: 0.9172 - val_loss: 11.0630 - val_accuracy: 0.3045\n",
            "Epoch 99/100\n",
            "800/800 [==============================] - 3s 4ms/step - loss: 0.2876 - accuracy: 0.9160 - val_loss: 11.3492 - val_accuracy: 0.2976\n",
            "Epoch 100/100\n",
            "800/800 [==============================] - 3s 4ms/step - loss: 0.2921 - accuracy: 0.9151 - val_loss: 11.6411 - val_accuracy: 0.2969\n",
            "313/313 [==============================] - 1s 3ms/step - loss: 11.4893 - accuracy: 0.3061\n",
            "Test accuracy: 0.3061000108718872\n"
          ]
        }
      ]
    },
    {
      "cell_type": "code",
      "source": [
        "# Ejecutamos el entrenamiento con el validation_split explicitado anteriormente\n"
      ],
      "metadata": {
        "id": "SQMB2DMRCkcw"
      },
      "execution_count": 35,
      "outputs": []
    },
    {
      "cell_type": "code",
      "source": [
        "# Generamos las métricas de generalización\n",
        "score = model.evaluate(train_images, train_labels, verbose=0)\n",
        "print(f'Test loss: {score[0]} / Test accuracy: {score[1]}')\n",
        "\n",
        "# Visualizamos history\n",
        "# Pintamos history: Pérdida\n",
        "plt.plot(history.history['val_loss'])\n",
        "plt.title('Validation loss history')\n",
        "plt.ylabel('Loss value')\n",
        "plt.xlabel('No. epoch')\n",
        "plt.show()\n",
        "\n",
        "# Pintamos history: Precisión\n",
        "plt.plot(history.history['val_accuracy'])\n",
        "plt.title('Validation accuracy history')\n",
        "plt.ylabel('Accuracy value (%)')\n",
        "plt.xlabel('No. epoch')\n",
        "plt.show()"
      ],
      "metadata": {
        "id": "Ib6jlUAllODh",
        "outputId": "6af5e913-2ae9-417e-ff01-937fb62466f2",
        "colab": {
          "base_uri": "https://localhost:8080/",
          "height": 590
        }
      },
      "execution_count": 36,
      "outputs": [
        {
          "output_type": "stream",
          "name": "stdout",
          "text": [
            "Test loss: 2.5568885803222656 / Test accuracy: 0.7960600256919861\n"
          ]
        },
        {
          "output_type": "display_data",
          "data": {
            "text/plain": [
              "<Figure size 432x288 with 1 Axes>"
            ],
            "image/png": "[encoded data removed]"
          },
          "metadata": {
            "needs_background": "light"
          }
        },
        {
          "output_type": "display_data",
          "data": {
            "text/plain": [
              "<Figure size 432x288 with 1 Axes>"
            ],
            "image/png": "[encoded data removed]"
          },
          "metadata": {
            "needs_background": "light"
          }
        }
      ]
    }
  ]
}